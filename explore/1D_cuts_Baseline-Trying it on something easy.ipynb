{
 "cells": [
  {
   "cell_type": "code",
   "execution_count": 1,
   "metadata": {},
   "outputs": [],
   "source": [
    "#imports for when I need quickReco\n",
    "import numpy as np\n",
    "from matplotlib import pyplot as plt\n",
    "from quickRecoNew import quickReco\n",
    "import math"
   ]
  },
  {
   "cell_type": "code",
   "execution_count": 2,
   "metadata": {},
   "outputs": [],
   "source": [
    "def calculate_significance(signal, background, cut_value):\n",
    "    sig_below=0.0 \n",
    "    sig_above=0.0\n",
    "    signal_count_below=0.0\n",
    "    background_count_below = 0.0\n",
    "    signal_count_above = 0.0\n",
    "    background_count_above = 0.0\n",
    "    \n",
    "    \n",
    "    signal_length = len(signal)\n",
    "    background_length=len(background)\n",
    "    \n",
    "    for i in range(signal_length):\n",
    "        if signal[i]<cut_value:\n",
    "            signal_count_below=signal_count_below+1.0;\n",
    "        if signal[i]>cut_value:\n",
    "            signal_count_above=signal_count_above+1.0;\n",
    "\n",
    "    for i in range(background_length):\n",
    "        if background[i]<cut_value:\n",
    "            background_count_below=background_count_below+1.0;\n",
    "        if background[i]>cut_value:\n",
    "            background_count_above=background_count_above+1.0;\n",
    "     \n",
    "    if signal_count_below < 10.0:\n",
    "        sig_below = 0.0\n",
    "    elif background_count_below < 10.0:\n",
    "        sig_below = 0.0\n",
    "    else:\n",
    "        sig_below = (signal_count_below/math.sqrt((background_count_below)))\n",
    "    if signal_count_above < 10.0:\n",
    "        sig_above = 0.0\n",
    "    elif background_count_above < 10.0:\n",
    "        sig_above = 0.0\n",
    "    else:\n",
    "        sig_above = (signal_count_above/math.sqrt((background_count_above)))    \n",
    "    return(sig_below, sig_above);\n"
   ]
  },
  {
   "cell_type": "code",
   "execution_count": 3,
   "metadata": {},
   "outputs": [],
   "source": [
    "def calculate_bounds(signal,background):\n",
    "    sig_low = 2000000000000000000000.0;#highest value a double can have if this was C. I just picked a really big number\n",
    "    back_low = 2000000000000000000000.0;#highest value a double can have\n",
    "    sig_high = -2000000000000000000000.0; #lowest value a double can have\n",
    "    back_high = -2000000000000000000000.0; #lowest value a double can have\n",
    "    \n",
    "    signal_length = len(signal)\n",
    "    background_length=len(background)\n",
    "    \n",
    "    for i in range(signal_length):\n",
    "        if signal[i]<sig_low:\n",
    "            sig_low = signal[i]\n",
    "        elif signal[i]>sig_high:\n",
    "            sig_high = signal[i]\n",
    "        else:\n",
    "            continue\n",
    "\n",
    "    for i in range(background_length):\n",
    "        if background[i]<back_low:\n",
    "            back_low = background[i]\n",
    "        elif background[i]>back_high:\n",
    "            back_high=background[i]\n",
    "        else:\n",
    "            continue    \n",
    "\n",
    "    highest=0.0\n",
    "    lowest =0.0\n",
    "    \n",
    "    if sig_high < back_high:\n",
    "        highest=sig_high\n",
    "    else :\n",
    "        highest=back_high\n",
    "    \n",
    "    if sig_low > back_low:\n",
    "        lowest=sig_low;\n",
    "    else:\n",
    "        lowest=back_low\n",
    "    \n",
    "    return(lowest, highest)"
   ]
  },
  {
   "cell_type": "code",
   "execution_count": 4,
   "metadata": {},
   "outputs": [],
   "source": [
    "def calculate_increment(lower, upper, nsteps):\n",
    "    return((upper-lower)/(nsteps))"
   ]
  },
  {
   "cell_type": "code",
   "execution_count": 5,
   "metadata": {},
   "outputs": [],
   "source": [
    "def calculate_best_cut(signal, background):\n",
    "    \n",
    "    if list_in_list_check(signal) and list_in_list_check(background):\n",
    "        signal_dummy_list = []\n",
    "        for i,arr in enumerate (signal):\n",
    "            for j,value in enumerate(arr):\n",
    "                signal_dummy_list.append(value)\n",
    "        background_dummy_list = []\n",
    "        for i, arr in enumerate (background):\n",
    "            for j, value in enumerate(arr):\n",
    "                background_dummy_list.append(value)\n",
    "                \n",
    "        return(calculate_best_cut(signal_dummy_list, background_dummy_list))\n",
    "                \n",
    "    elif not (list_in_list_check(signal) and list_in_list_check(background)):   \n",
    "        upper = 0.0\n",
    "        lower = 0.0\n",
    "        lower, upper = calculate_bounds(signal, background)\n",
    "    \n",
    "        nsteps = 100.0 #insert value here\n",
    "        increment = calculate_increment (lower, upper, nsteps)\n",
    "    \n",
    "        cut = lower +(0.5*increment)\n",
    "    \n",
    "        best_cut = 0.0 \n",
    "        best_significance=0.0\n",
    "        direction = 'empty'\n",
    "    \n",
    "        while cut<upper:\n",
    "            significance_below, significance_above = calculate_significance(signal, background, cut)\n",
    "            if significance_below > best_significance:\n",
    "                best_significance = significance_below\n",
    "                best_cut=cut\n",
    "                direction = 'below'\n",
    "            if significance_above > best_significance:\n",
    "                best_significance = significance_above\n",
    "                best_cut = cut\n",
    "                direction = 'above'\n",
    "            cut=cut + increment\n",
    "        return(best_cut, best_significance, direction)\n",
    "    else:\n",
    "        print('Mismatch between list type of signal and list type of background input')\n",
    "        return('error','error','error')"
   ]
  },
  {
   "cell_type": "code",
   "execution_count": 6,
   "metadata": {},
   "outputs": [],
   "source": [
    "def removal_check(value, direction, cut):\n",
    "    if direction == 'above':\n",
    "        if value < cut:\n",
    "            return(True)\n",
    "        if value > cut:\n",
    "            return(False)\n",
    "    elif direction =='below':\n",
    "        if value > cut:\n",
    "            return(True)\n",
    "        if value < cut:\n",
    "            return(False)\n",
    "    else:\n",
    "        return(None)"
   ]
  },
  {
   "cell_type": "code",
   "execution_count": 7,
   "metadata": {},
   "outputs": [],
   "source": [
    "def list_in_list_check(name):\n",
    "    return(any(isinstance(el,list)for el in name))\n",
    "#True means it is a list which contains lists.\n",
    "#False means it is a normal list"
   ]
  },
  {
   "cell_type": "code",
   "execution_count": 8,
   "metadata": {},
   "outputs": [],
   "source": [
    "def make_index_delete_list(data, direction, cut):\n",
    "    indicies = []\n",
    "    \n",
    "    if list_in_list_check(data):\n",
    "        appendable = []\n",
    "        for i, array in enumerate(data):\n",
    "            for j, value in enumerate(array):\n",
    "                if j == 0:\n",
    "                    first = True\n",
    "                if removal_check(value, direction, cut):\n",
    "                    if not first:\n",
    "                        appendable.append(j)\n",
    "                    if first:\n",
    "                        appendable.append(i)\n",
    "                        appendable.append(j)\n",
    "                        first = False\n",
    "            if appendable == []:\n",
    "                continue\n",
    "            else:\n",
    "                appendable.append(j+1)\n",
    "                indicies.append(appendable)\n",
    "            appendable = []\n",
    "        indicies.sort(reverse=True)\n",
    "        return (indicies)\n",
    "    \n",
    "    if not list_in_list_check(data):\n",
    "        for i,value in enumerate(data):\n",
    "            if removal_check(value,direction,cut):\n",
    "                indicies.append(i)\n",
    "        indicies.sort(reverse=True)\n",
    "        return(indicies)"
   ]
  },
  {
   "cell_type": "code",
   "execution_count": 9,
   "metadata": {},
   "outputs": [],
   "source": [
    "def delete_cut_data(indicies, data_to_cut):\n",
    "    if not list_in_list_check(indicies):\n",
    "        for i in range(len(indicies)):\n",
    "            del data_to_cut[indicies[i]]\n",
    "        return(data_to_cut)\n",
    "    if list_in_list_check(indicies):\n",
    "        if not list_in_list_check(data_to_cut):\n",
    "            for i, array in enumerate(indicies):\n",
    "                nvalues=len(array)-2\n",
    "                if nvalues == array[-1]:\n",
    "                    del data_to_cut[array[0]]\n",
    "            return(data_to_cut)\n",
    "        if list_in_list_check(data_to_cut):\n",
    "            for i, indicies_array in enumerate(indicies):\n",
    "                nvalues = len(indicies_array)-2\n",
    "                if nvalues==indicies_array[-1]:\n",
    "                    del data_to_cut[indicies_array[0]]\n",
    "                else:\n",
    "                    dummy_array = []\n",
    "                    dummy_array = indicies_array\n",
    "                    del dummy_array[0]\n",
    "                    del dummy_array[-1]\n",
    "                    dummy_array.sort(reverse=True)\n",
    "                    for j, index in enumerate(dummy_array):\n",
    "                        del data_to_cut[indicies_array[0]][index]\n",
    "            return(data_to_cut)"
   ]
  },
  {
   "cell_type": "code",
   "execution_count": 10,
   "metadata": {},
   "outputs": [],
   "source": [
    "signal = quickReco('signal','\\\\Users\\\\student\\\\Desktop\\\\College\\\\Summer_2020\\\\Research\\\\DM_first_model_first_run\\\\ppTOllxdxd_signal\\\\seed_10_xdxd_delphes_events.root')\n",
    "background = quickReco('background','\\\\Users\\\\student\\\\Desktop\\\\College\\\\Summer_2020\\\\Research\\\\DM_first_model_first_run\\\\ppTOll background')"
   ]
  },
  {
   "cell_type": "code",
   "execution_count": 11,
   "metadata": {},
   "outputs": [
    {
     "name": "stdout",
     "output_type": "stream",
     "text": [
      "...Loading file \n",
      "\\Users\\student\\Desktop\\College\\Summer_2020\\Research\\DM_first_model_first_run\\ppTOllxdxd_signal\\seed_10_xdxd_delphes_events.root\n",
      "...Finished loading branches\n",
      "Processed 0 events...\n"
     ]
    },
    {
     "ename": "IndexError",
     "evalue": "list index out of range",
     "output_type": "error",
     "traceback": [
      "\u001b[1;31m---------------------------------------------------------------------------\u001b[0m",
      "\u001b[1;31mIndexError\u001b[0m                                Traceback (most recent call last)",
      "\u001b[1;32m<ipython-input-11-26fcdf726536>\u001b[0m in \u001b[0;36m<module>\u001b[1;34m\u001b[0m\n\u001b[1;32m----> 1\u001b[1;33m \u001b[0msignal\u001b[0m\u001b[1;33m.\u001b[0m\u001b[0mprocess\u001b[0m\u001b[1;33m(\u001b[0m\u001b[1;33m)\u001b[0m\u001b[1;33m\u001b[0m\u001b[1;33m\u001b[0m\u001b[0m\n\u001b[0m",
      "\u001b[1;32m~\\Documents\\GitHub\\darkMatter\\explore\\quickRecoNew.py\u001b[0m in \u001b[0;36mprocess\u001b[1;34m(self)\u001b[0m\n\u001b[0;32m     91\u001b[0m \u001b[1;33m\u001b[0m\u001b[0m\n\u001b[0;32m     92\u001b[0m             \u001b[1;31m# ** C. Event selection\u001b[0m\u001b[1;33m\u001b[0m\u001b[1;33m\u001b[0m\u001b[1;33m\u001b[0m\u001b[0m\n\u001b[1;32m---> 93\u001b[1;33m             \u001b[0mself\u001b[0m\u001b[1;33m.\u001b[0m\u001b[0meventSelection\u001b[0m\u001b[1;33m(\u001b[0m\u001b[0miEvent\u001b[0m\u001b[1;33m)\u001b[0m\u001b[1;33m\u001b[0m\u001b[1;33m\u001b[0m\u001b[0m\n\u001b[0m\u001b[0;32m     94\u001b[0m \u001b[1;33m\u001b[0m\u001b[0m\n\u001b[0;32m     95\u001b[0m \u001b[1;33m\u001b[0m\u001b[0m\n",
      "\u001b[1;32m~\\Documents\\GitHub\\darkMatter\\explore\\quickRecoNew.py\u001b[0m in \u001b[0;36meventSelection\u001b[1;34m(self, _iEvent)\u001b[0m\n\u001b[0;32m    111\u001b[0m \u001b[1;33m\u001b[0m\u001b[0m\n\u001b[0;32m    112\u001b[0m         \u001b[1;31m# ** 2. muon channel\u001b[0m\u001b[1;33m\u001b[0m\u001b[1;33m\u001b[0m\u001b[1;33m\u001b[0m\u001b[0m\n\u001b[1;32m--> 113\u001b[1;33m         \u001b[0mself\u001b[0m\u001b[1;33m.\u001b[0m\u001b[0mdileptonReco\u001b[0m\u001b[1;33m(\u001b[0m\u001b[0mself\u001b[0m\u001b[1;33m.\u001b[0m\u001b[0mselectedMuons\u001b[0m\u001b[1;33m,\u001b[0m \u001b[1;34m'muon'\u001b[0m\u001b[1;33m,\u001b[0m \u001b[0m_iEvent\u001b[0m\u001b[1;33m)\u001b[0m\u001b[1;33m\u001b[0m\u001b[1;33m\u001b[0m\u001b[0m\n\u001b[0m\u001b[0;32m    114\u001b[0m \u001b[1;33m\u001b[0m\u001b[0m\n\u001b[0;32m    115\u001b[0m     \u001b[1;32mdef\u001b[0m \u001b[0mdileptonReco\u001b[0m\u001b[1;33m(\u001b[0m\u001b[0mself\u001b[0m\u001b[1;33m,\u001b[0m \u001b[0m_leptons\u001b[0m\u001b[1;33m,\u001b[0m \u001b[0mflavor\u001b[0m\u001b[1;33m,\u001b[0m \u001b[0m_iEvent\u001b[0m\u001b[1;33m)\u001b[0m\u001b[1;33m:\u001b[0m\u001b[1;33m\u001b[0m\u001b[1;33m\u001b[0m\u001b[0m\n",
      "\u001b[1;32m~\\Documents\\GitHub\\darkMatter\\explore\\quickRecoNew.py\u001b[0m in \u001b[0;36mdileptonReco\u001b[1;34m(self, _leptons, flavor, _iEvent)\u001b[0m\n\u001b[0;32m    134\u001b[0m                     \u001b[0mself\u001b[0m\u001b[1;33m.\u001b[0m\u001b[0mdileptonPT\u001b[0m\u001b[1;33m.\u001b[0m\u001b[0mappend\u001b[0m\u001b[1;33m(\u001b[0m \u001b[0mpt_ll\u001b[0m\u001b[1;33m)\u001b[0m\u001b[1;33m\u001b[0m\u001b[1;33m\u001b[0m\u001b[0m\n\u001b[0;32m    135\u001b[0m                     \u001b[0mself\u001b[0m\u001b[1;33m.\u001b[0m\u001b[0mdilepton_Jets\u001b[0m\u001b[1;33m.\u001b[0m\u001b[0mappend\u001b[0m\u001b[1;33m(\u001b[0m\u001b[0mself\u001b[0m\u001b[1;33m.\u001b[0m\u001b[0mnJets\u001b[0m\u001b[1;33m[\u001b[0m\u001b[0m_iEvent\u001b[0m\u001b[1;33m]\u001b[0m\u001b[1;33m)\u001b[0m\u001b[1;33m\u001b[0m\u001b[1;33m\u001b[0m\u001b[0m\n\u001b[1;32m--> 136\u001b[1;33m                     \u001b[0mself\u001b[0m\u001b[1;33m.\u001b[0m\u001b[0mdilepton_missingET\u001b[0m\u001b[1;33m.\u001b[0m\u001b[0mappend\u001b[0m\u001b[1;33m(\u001b[0m\u001b[0mself\u001b[0m\u001b[1;33m.\u001b[0m\u001b[0mmissingET\u001b[0m\u001b[1;33m[\u001b[0m\u001b[0m_iEvent\u001b[0m\u001b[1;33m]\u001b[0m\u001b[1;33m)\u001b[0m\u001b[1;33m\u001b[0m\u001b[1;33m\u001b[0m\u001b[0m\n\u001b[0m\u001b[0;32m    137\u001b[0m                     \u001b[0mself\u001b[0m\u001b[1;33m.\u001b[0m\u001b[0mdilepton_HT\u001b[0m\u001b[1;33m.\u001b[0m\u001b[0mappend\u001b[0m\u001b[1;33m(\u001b[0m\u001b[0mself\u001b[0m\u001b[1;33m.\u001b[0m\u001b[0mHT\u001b[0m\u001b[1;33m[\u001b[0m\u001b[0m_iEvent\u001b[0m\u001b[1;33m]\u001b[0m\u001b[1;33m)\u001b[0m\u001b[1;33m\u001b[0m\u001b[1;33m\u001b[0m\u001b[0m\n\u001b[0;32m    138\u001b[0m \u001b[1;33m\u001b[0m\u001b[0m\n",
      "\u001b[1;31mIndexError\u001b[0m: list index out of range"
     ]
    }
   ],
   "source": [
    "signal.process()\n"
   ]
  },
  {
   "cell_type": "code",
   "execution_count": 88,
   "metadata": {},
   "outputs": [
    {
     "data": {
      "image/png": "[encoded data removed]",
      "text/plain": [
       "<Figure size 432x288 with 1 Axes>"
      ]
     },
     "metadata": {
      "needs_background": "light"
     },
     "output_type": "display_data"
    }
   ],
   "source": [
    "plt.hist(signal.dilepton_missingET, bins=np.arange(0,10), alpha=0.4, label='2HDMa ll+xdxd')\n",
    "plt.title('Number of Jets')\n",
    "plt.xlabel('Number of Jets')\n",
    "plt.ylabel('Entries / Bin')\n",
    "plt.legend()\n",
    "plt.show()"
   ]
  },
  {
   "cell_type": "code",
   "execution_count": 43,
   "metadata": {},
   "outputs": [
    {
     "data": {
      "image/png": "[encoded data removed]",
      "text/plain": [
       "<Figure size 432x288 with 1 Axes>"
      ]
     },
     "metadata": {
      "needs_background": "light"
     },
     "output_type": "display_data"
    },
    {
     "data": {
      "image/png": "[encoded data removed]",
      "text/plain": [
       "<Figure size 432x288 with 1 Axes>"
      ]
     },
     "metadata": {
      "needs_background": "light"
     },
     "output_type": "display_data"
    },
    {
     "data": {
      "image/png": "[encoded data removed]",
      "text/plain": [
       "<Figure size 432x288 with 1 Axes>"
      ]
     },
     "metadata": {
      "needs_background": "light"
     },
     "output_type": "display_data"
    },
    {
     "data": {
      "image/png": "[encoded data removed]",
      "text/plain": [
       "<Figure size 432x288 with 1 Axes>"
      ]
     },
     "metadata": {
      "needs_background": "light"
     },
     "output_type": "display_data"
    },
    {
     "data": {
      "image/png": "[encoded data removed]",
      "text/plain": [
       "<Figure size 432x288 with 1 Axes>"
      ]
     },
     "metadata": {
      "needs_background": "light"
     },
     "output_type": "display_data"
    }
   ],
   "source": [
    "plt.hist(background.dileptonMass, bins=np.arange(20,250,5), alpha=0.4, label='SM ll')\n",
    "plt.hist(signal.dileptonMass, bins=np.arange(20,250,5), alpha=0.4, label='2HDMa ll+xdxd')\n",
    "plt.title('Dilepton Mass')\n",
    "plt.xlabel('Dilepton Mass [GeV]')\n",
    "plt.ylabel('Entries / 5 GeV')\n",
    "plt.legend()\n",
    "plt.show()\n",
    "\n",
    "plt.hist(background.dileptonPT, bins=np.arange(0,300,5), alpha=0.4, label='SM ll')\n",
    "plt.hist(signal.dileptonPT, bins=np.arange(0,300,5), alpha=0.4, label='2HDMa ll+xdxd')\n",
    "plt.title('Dilepton PT')\n",
    "plt.xlabel('Dilepton PT [GeV]')\n",
    "plt.ylabel('Entries / 5 GeV')\n",
    "plt.legend()\n",
    "plt.show()\n",
    "\n",
    "plt.hist(background.dilepton_Jets, bins=np.arange(0,10), alpha=0.4, label='SM ll')\n",
    "plt.hist(signal.dilepton_Jets, bins=np.arange(0,10), alpha=0.4, label='2HDMa ll+xdxd')\n",
    "plt.title('Number of Jets')\n",
    "plt.xlabel('Number of Jets')\n",
    "plt.ylabel('Entries / Bin')\n",
    "plt.legend()\n",
    "plt.show()\n",
    "\n",
    "plt.hist(background.dilepton_MET, bins=np.arange(0,10), alpha=0.4, label='SM ll')\n",
    "plt.hist(signal.dilepton_MET, bins=np.arange(0,10), alpha=0.4, label='2HDMa ll+xdxd')\n",
    "plt.title('Number of Jets')\n",
    "plt.xlabel('Number of Jets')\n",
    "plt.ylabel('Entries / Bin')\n",
    "plt.legend()\n",
    "plt.show()\n",
    "\n",
    "plt.hist(background.dilepton_HT, bins=np.arange(0,10), alpha=0.4, label='SM ll')\n",
    "plt.hist(signal.dilepton_HT, bins=np.arange(0,10), alpha=0.4, label='2HDMa ll+xdxd')\n",
    "plt.title('Number of Jets')\n",
    "plt.xlabel('Number of Jets')\n",
    "plt.ylabel('Entries / Bin')\n",
    "plt.legend()\n",
    "plt.show()"
   ]
  },
  {
   "cell_type": "code",
   "execution_count": null,
   "metadata": {},
   "outputs": [],
   "source": [
    "#Test\n",
    "#list all of the variables that are being cut on here:\n",
    "#.dileptonMass\n",
    "#.dileptonPT\n",
    "#.nJets\n",
    "#\n",
    "\n",
    "data1_sig = signal.dileptonMass\n",
    "data1_back = background.dileptonMass\n",
    "data2_sig = signal.dileptonPT\n",
    "data2_back = background.dileptonPT\n",
    "data3_sig = signal.dilepton_Jets\n",
    "data3_back = background.dilepton_Jets\n",
    "\n",
    "data1_cut, data1_significance, data1_direction = calculate_best_cut(data1_sig, data1_back)\n",
    "print(data1_cut, data1_significance, data1_direction)\n",
    "data2_cut, data2_significance, data2_direction = calculate_best_cut(data2_sig, data2_back)\n",
    "print(data2_cut, data2_significance, data2_direction)\n",
    "data3_cut, data3_significance, data3_direction = calculate_best_cut(data3_sig, data3_back)\n",
    "print(data3_cut, data3_significance, data3_direction)\n",
    "\n",
    "significance_list = [data1_significance, data2_significance, data3_significance]\n",
    "\n",
    "cut1_max_significance = max(significance_list)\n",
    "\n"
   ]
  },
  {
   "cell_type": "code",
   "execution_count": 61,
   "metadata": {},
   "outputs": [
    {
     "name": "stdout",
     "output_type": "stream",
     "text": [
      "cut one was made on data2\n"
     ]
    }
   ],
   "source": [
    "if cut1_max_significance == data1_significance:\n",
    "    print(\"cut one was made on data1\")\n",
    "    cut1_cut = data1_cut\n",
    "    cut1_direction = data1_direction\n",
    "    \n",
    "    indicies_sig_cut1 = make_index_delete_list(data1_sig, cut1_direction, cut1_cut)\n",
    "    cut1_data1_sig = delete_cut_data(indicies_sig_cut1, data1_sig)\n",
    "    cut1_data2_sig = delete_cut_data(indicies_sig_cut1, data2_sig)\n",
    "    cut1_data3_sig = delete_cut_data(indicies_sig_cut1, data3_sig)\n",
    "    \n",
    "    indicies_back_cut1 = make_index_delete_list(data1_back, cut1_direction, cut1_cut)\n",
    "    cut1_data1_back = delete_cut_data(indicies_back_cut1, data1_back)\n",
    "    cut1_data2_back = delete_cut_data(indicies_back_cut1, data2_back)\n",
    "    cut1_data3_back = delete_cut_data(indicies_back_cut1, data3_back)\n",
    "    \n",
    "elif cut1_max_significance == data2_significance:\n",
    "    print(\"cut one was made on data2\")\n",
    "    cut1_cut = data2_cut\n",
    "    cut1_direction = data2_direction\n",
    "    \n",
    "    indicies_sig_cut1 = make_index_delete_list(data2_sig, cut1_direction, cut1_cut)\n",
    "    cut1_data1_sig = delete_cut_data(indicies_sig_cut1, data1_sig)\n",
    "    cut1_data2_sig = delete_cut_data(indicies_sig_cut1, data2_sig)\n",
    "    cut1_data3_sig = delete_cut_data(indicies_sig_cut1, data3_sig)\n",
    "    \n",
    "    indicies_back_cut1 = make_index_delete_list(data2_back, cut1_direction, cut1_cut)\n",
    "    cut1_data1_back = delete_cut_data(indicies_back_cut1, data1_back)\n",
    "    cut1_data2_back = delete_cut_data(indicies_back_cut1, data2_back)\n",
    "    cut1_data3_back = delete_cut_data(indicies_back_cut1, data3_back)\n",
    "\n",
    "elif cut1_max_significance == data3_significance:\n",
    "    print(\"cut one was made on data3\")\n",
    "    cut1_cut = data3_cut\n",
    "    cut1_direction = data3_direction\n",
    "    \n",
    "    indicies_sig_cut1 = make_index_delete_list(data3_sig, cut1_direction, cut1_cut)\n",
    "    cut1_data1_sig = delete_cut_data(indicies_sig_cut1, data1_sig)\n",
    "    cut1_data2_sig = delete_cut_data(indicies_sig_cut1, data2_sig)\n",
    "    cut1_data3_sig = delete_cut_data(indicies_sig_cut1, data3_sig)\n",
    "    \n",
    "    indicies_back_cut1 = make_index_delete_list(data3_back, cut1_direction, cut1_cut)\n",
    "    cut1_data1_back = delete_cut_data(indicies_back_cut1, data1_back)\n",
    "    cut1_data2_back = delete_cut_data(indicies_back_cut1, data2_back)\n",
    "    cut1_data3_back = delete_cut_data(indicies_back_cut1, data3_back)\n",
    "else:\n",
    "    print(\"An error has occured during Cut 1. No match for the max significance value could be found.\")"
   ]
  },
  {
   "cell_type": "code",
   "execution_count": 63,
   "metadata": {},
   "outputs": [
    {
     "data": {
      "image/png": "[encoded data removed]",
      "text/plain": [
       "<Figure size 432x288 with 1 Axes>"
      ]
     },
     "metadata": {
      "needs_background": "light"
     },
     "output_type": "display_data"
    },
    {
     "data": {
      "image/png": "[encoded data removed]",
      "text/plain": [
       "<Figure size 432x288 with 1 Axes>"
      ]
     },
     "metadata": {
      "needs_background": "light"
     },
     "output_type": "display_data"
    },
    {
     "data": {
      "image/png": "[encoded data removed]",
      "text/plain": [
       "<Figure size 432x288 with 1 Axes>"
      ]
     },
     "metadata": {
      "needs_background": "light"
     },
     "output_type": "display_data"
    }
   ],
   "source": [
    "plt.hist(cut1_data1_back, bins=np.arange(20,250,5), alpha=0.4, label='SM ll')\n",
    "plt.hist(cut1_data1_sig, bins=np.arange(20,250,5), alpha=0.4, label='2HDMa ll+xdxd')\n",
    "plt.title('Dilepton Mass')\n",
    "plt.xlabel('Dilepton Mass [GeV]')\n",
    "plt.ylabel('Entries / 5 GeV')\n",
    "plt.legend()\n",
    "plt.show()\n",
    "\n",
    "plt.hist(cut1_data2_back, bins=np.arange(0,300,5), alpha=0.4, label='SM ll')\n",
    "plt.hist(cut1_data2_sig, bins=np.arange(0,300,5), alpha=0.4, label='2HDMa ll+xdxd')\n",
    "plt.title('Dilepton PT')\n",
    "plt.xlabel('Dilepton PT [GeV]')\n",
    "plt.ylabel('Entries / 5 GeV')\n",
    "plt.legend()\n",
    "plt.show()\n",
    "\n",
    "plt.hist(cut1_data3_back, bins=np.arange(0,10), alpha=0.4, label='SM ll')\n",
    "plt.hist(cut1_data3_sig, bins=np.arange(0,10), alpha=0.4, label='2HDMa ll+xdxd')\n",
    "plt.title('Number of Jets')\n",
    "plt.xlabel('Number of Jets')\n",
    "plt.ylabel('Entries / Bin')\n",
    "plt.legend()\n",
    "plt.show()"
   ]
  },
  {
   "cell_type": "code",
   "execution_count": null,
   "metadata": {},
   "outputs": [],
   "source": []
  },
  {
   "cell_type": "code",
   "execution_count": null,
   "metadata": {},
   "outputs": [],
   "source": []
  },
  {
   "cell_type": "code",
   "execution_count": null,
   "metadata": {},
   "outputs": [],
   "source": []
  },
  {
   "cell_type": "code",
   "execution_count": null,
   "metadata": {},
   "outputs": [],
   "source": []
  }
 ],
 "metadata": {
  "kernelspec": {
   "display_name": "Python 3",
   "language": "python",
   "name": "python3"
  },
  "language_info": {
   "codemirror_mode": {
    "name": "ipython",
    "version": 3
   },
   "file_extension": ".py",
   "mimetype": "text/x-python",
   "name": "python",
   "nbconvert_exporter": "python",
   "pygments_lexer": "ipython3",
   "version": "3.7.7"
  }
 },
 "nbformat": 4,
 "nbformat_minor": 4
}
