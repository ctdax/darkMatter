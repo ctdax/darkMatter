{
 "cells": [
  {
   "cell_type": "code",
   "execution_count": 2,
   "metadata": {},
   "outputs": [],
   "source": [
    "#imports for when I need quickReco\n",
    "import numpy as np\n",
    "from matplotlib import pyplot as plt\n",
    "from quickRecoClass import quickReco"
   ]
  },
  {
   "cell_type": "code",
   "execution_count": 18,
   "metadata": {},
   "outputs": [],
   "source": [
    "def calculate_significance(signal, background, cut_value):\n",
    "    sig_below=0.0 \n",
    "    sig_above=0.0\n",
    "    signal_count=0\n",
    "    background_count = 0\n",
    "    #below\n",
    "    for i in len(signal):\n",
    "        if signal[i]<cut_value:\n",
    "                signal_count=signal_count+1;\n",
    "\n",
    "    for i in len(background):\n",
    "        if background[i]<cut_value:\n",
    "            background_count=background_count+1;\n",
    "    \n",
    "    sig_below = double(signal_count/sqrt(double(background_count)))\n",
    "    \n",
    "    #above\n",
    "    signal_count=0;\n",
    "    backgrounf_count=0;\n",
    "    \n",
    "    for i in len(signal):\n",
    "        if signal[i]>cut_value:\n",
    "            signal_count=signal_count+1;\n",
    "    \n",
    "    for i in len(background):\n",
    "        if background[i]>cut_value:\n",
    "            background_count=background_count+1;\n",
    "    \n",
    "    sig_above = double(signal_count/sqrt(double(background_count)));\n",
    "    \n",
    "    return(sig_below, sig_above);\n"
   ]
  },
  {
   "cell_type": "code",
   "execution_count": 26,
   "metadata": {},
   "outputs": [],
   "source": [
    "def calculate_bounds(signal,background):\n",
    "    sig_low = 2000000000000000000000.0;#highest value a double can have if this was C. I just picked a really big number\n",
    "    back_low = 2000000000000000000000.0;#highest value a double can have\n",
    "    sig_high = -2000000000000000000000.0; #lowest value a double can have\n",
    "    back_high = -2000000000000000000000.0; #lowest value a double can have\n",
    "    \n",
    "    for i in len(signal):\n",
    "        if signal[i]<sig_low:\n",
    "            sig_low = signal[i]\n",
    "        elif signal[i]>sig_high:\n",
    "            sig_high = signal[i]\n",
    "        else:\n",
    "            continue\n",
    "\n",
    "    for i in len(background):\n",
    "        if background[i]<back_low:\n",
    "            back_low = background[i]\n",
    "        elif background[i]>back_high:\n",
    "            back_high=background[i]\n",
    "        else:\n",
    "            continue    \n",
    "\n",
    "    highest=0.0\n",
    "    lowest =0.0\n",
    "    \n",
    "    if sig_high > back_high:\n",
    "        highest=sig_high\n",
    "    else :\n",
    "        highest=back_high\n",
    "    \n",
    "    if sig_low < back_low:\n",
    "        lowest=sig_low;\n",
    "    else:\n",
    "        lowest=back_low\n",
    "    \n",
    "    return(lowest, highest)"
   ]
  },
  {
   "cell_type": "code",
   "execution_count": 27,
   "metadata": {},
   "outputs": [],
   "source": [
    "def calculate_increment(lower, upper, nsteps):\n",
    "    return(double((upper-lower)/double(nsteps)))"
   ]
  },
  {
   "cell_type": "code",
   "execution_count": 2,
   "metadata": {},
   "outputs": [],
   "source": [
    "def calculate_best_cut(signal, background):\n",
    "    upper = 0.0\n",
    "    lower = 0.0\n",
    "    lower, upper = calculate_bounds(signal, background)\n",
    "    \n",
    "    nsteps = 100 #insert value here\n",
    "    increment = calculate_increment (lower, upper, nsteps)\n",
    "    \n",
    "    cut = lower +(0.5*increment)\n",
    "    \n",
    "    best_cut = 0.0 \n",
    "    best_significance=0.0\n",
    "    direction = 'empty'\n",
    "    \n",
    "    while cut<upper:\n",
    "        significance_below, significance_above = calculate_signficance(signal, background, cut)\n",
    "        if significance_below > significance_above:\n",
    "            if significance_below > best_significance:\n",
    "                best_significance = significance_below\n",
    "                best_cut=cut\n",
    "                direction = 'below'\n",
    "        else:\n",
    "            if signficance_above > best_significance:\n",
    "                best_signficance = significance_above\n",
    "                best_cut = cut\n",
    "                direction = 'above'\n",
    "        cut=cut + increment\n",
    "    return(best_cut, best_significance, direction)"
   ]
  },
  {
   "cell_type": "code",
   "execution_count": null,
   "metadata": {},
   "outputs": [],
   "source": [
    "signal = quickReco('signal','Path/to/signal/file/or/directory')\n",
    "background = quickReco('background','Path/to/background/file/or/directory')"
   ]
  }
 ],
 "metadata": {
  "kernelspec": {
   "display_name": "Python 3",
   "language": "python",
   "name": "python3"
  },
  "language_info": {
   "codemirror_mode": {
    "name": "ipython",
    "version": 3
   },
   "file_extension": ".py",
   "mimetype": "text/x-python",
   "name": "python",
   "nbconvert_exporter": "python",
   "pygments_lexer": "ipython3",
   "version": "3.7.7"
  }
 },
 "nbformat": 4,
 "nbformat_minor": 4
}
