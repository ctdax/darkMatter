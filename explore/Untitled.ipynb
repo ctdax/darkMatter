{
 "cells": [
  {
   "cell_type": "code",
   "execution_count": 36,
   "metadata": {},
   "outputs": [],
   "source": [
    "import numpy as np\n",
    "from matplotlib import pyplot as plt\n",
    "import uproot, uproot_methods\n",
    "import uproot_methods.classes.TLorentzVector as TLorentzVector"
   ]
  },
  {
   "cell_type": "code",
   "execution_count": null,
   "metadata": {},
   "outputs": [],
   "source": []
  },
  {
   "cell_type": "code",
   "execution_count": 37,
   "metadata": {},
   "outputs": [
    {
     "data": {
      "text/plain": [
       "<ChunkedArray [-14.9 -13.9 -12.9 ... 12.1 13.1 14.1] at 0x0213d584dcc8>"
      ]
     },
     "execution_count": 37,
     "metadata": {},
     "output_type": "execute_result"
    }
   ],
   "source": [
    "data = uproot.lazyarray(\n",
    "    # list of files; local files can have wildcards (*)\n",
    "    [\"http://scikit-hep.org/uproot/examples/sample-%s-zlib.root\" % x\n",
    "        for x in [\"5.23.02\", \"5.24.00\", \"5.25.02\", \"5.26.00\", \"5.27.02\", \"5.28.00\",\n",
    "                  \"5.29.02\", \"5.30.00\", \"6.08.04\", \"6.10.05\", \"6.14.00\"]],\n",
    "    # TTree name in each file\n",
    "    \"sample\",\n",
    "    # branch(s) in each file for lazyarray(s)\n",
    "    \"f8\")\n",
    "data"
   ]
  },
  {
   "cell_type": "code",
   "execution_count": 38,
   "metadata": {},
   "outputs": [
    {
     "name": "stdout",
     "output_type": "stream",
     "text": [
      "[b'Event', b'Event_size', b'Weight', b'Weight_size', b'Particle', b'Particle_size', b'Track', b'Track_size', b'Tower', b'Tower_size', b'EFlowTrack', b'EFlowTrack_size', b'EFlowPhoton', b'EFlowPhoton_size', b'EFlowNeutralHadron', b'EFlowNeutralHadron_size', b'GenJet', b'GenJet_size', b'GenMissingET', b'GenMissingET_size', b'Jet', b'Jet_size', b'Electron', b'Electron_size', b'Photon', b'Photon_size', b'Muon', b'Muon_size', b'FatJet', b'FatJet_size', b'MissingET', b'MissingET_size', b'ScalarHT', b'ScalarHT_size']\n"
     ]
    }
   ],
   "source": [
    "file_name = uproot.open('C:\\\\Users\\\\student\\\\Desktop\\\\College\\\\Summer_2020\\\\Research\\\\ppTOll_background\\\\seed_1_ll_delphes_events.root')\n",
    "data_1 = uproot.tree.TTreeMethods.keys(file_name['Delphes'])\n",
    "print(data_1)"
   ]
  },
  {
   "cell_type": "code",
   "execution_count": 34,
   "metadata": {},
   "outputs": [
    {
     "data": {
      "text/plain": [
       "<ChunkedArray [1 1 0 ... 2 0 0] at 0x0213e97d0ec8>"
      ]
     },
     "execution_count": 34,
     "metadata": {},
     "output_type": "execute_result"
    }
   ],
   "source": [
    "data_2=uproot.lazyarray([\"\\\\Users\\\\student\\\\Desktop\\\\College\\\\Summer_2020\\\\Research\\\\ppTOll_background\\\\seed_%s_ll_delphes_events.root\" %x\n",
    "                             for x in range (1,20)],\n",
    "                         'Delphes','Jet_size')\n",
    "data_2"
   ]
  },
  {
   "cell_type": "code",
   "execution_count": 44,
   "metadata": {},
   "outputs": [
    {
     "name": "stdout",
     "output_type": "stream",
     "text": [
      "[1 1 1 ... 1 1 1]\n"
     ]
    },
    {
     "data": {
      "text/plain": [
       "<ChunkedArray [1 1 1 ... 1 1 1] at 0x02139e4561c8>"
      ]
     },
     "execution_count": 44,
     "metadata": {},
     "output_type": "execute_result"
    }
   ],
   "source": [
    "data_3=uproot.lazyarray([\"\\\\Users\\\\student\\\\Desktop\\\\College\\\\Summer_2020\\\\Research\\\\ppTOll_background\\\\seed_%s_ll_delphes_events.root\" %x\n",
    "                             for x in range (1,20)],\n",
    "                         'Delphes','Jet')\n",
    "data_3\n",
    "data_4=uproot.lazyarray([\"\\\\Users\\\\student\\\\Desktop\\\\College\\\\Summer_2020\\\\Research\\\\ppTOll_background\\\\seed_%s_ll_delphes_events.root\" %x\n",
    "                             for x in range (1,20)],\n",
    "                         'Delphes','MissingET')\n",
    "print(data_4)\n",
    "data_5=uproot.lazyarray([\"\\\\Users\\\\student\\\\Desktop\\\\College\\\\Summer_2020\\\\Research\\\\ppTOll_background\\\\seed_%s_ll_delphes_events.root\" %x\n",
    "                             for x in range (1,20)],\n",
    "                         'Delphes','ScalarHT')\n",
    "data_5"
   ]
  },
  {
   "cell_type": "code",
   "execution_count": null,
   "metadata": {},
   "outputs": [],
   "source": []
  }
 ],
 "metadata": {
  "kernelspec": {
   "display_name": "Python 3",
   "language": "python",
   "name": "python3"
  },
  "language_info": {
   "codemirror_mode": {
    "name": "ipython",
    "version": 3
   },
   "file_extension": ".py",
   "mimetype": "text/x-python",
   "name": "python",
   "nbconvert_exporter": "python",
   "pygments_lexer": "ipython3",
   "version": "3.7.7"
  }
 },
 "nbformat": 4,
 "nbformat_minor": 4
}
