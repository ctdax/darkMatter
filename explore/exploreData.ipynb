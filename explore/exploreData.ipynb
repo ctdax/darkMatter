{
 "cells": [
  {
   "cell_type": "code",
   "execution_count": 2,
   "metadata": {},
   "outputs": [],
   "source": [
    "# TO_DO\n",
    "# 1) load files\n",
    "# 2) plot simple quantities\n",
    "# 3) object selection\n",
    "# 4) event selection"
   ]
  },
  {
   "cell_type": "code",
   "execution_count": 3,
   "metadata": {},
   "outputs": [],
   "source": [
    "import numpy as np\n",
    "from matplotlib import pyplot as plt\n",
    "import uproot, uproot_methods\n",
    "import uproot_methods.classes.TLorentzVector as TLorentzVector"
   ]
  },
  {
   "cell_type": "code",
   "execution_count": 4,
   "metadata": {},
   "outputs": [],
   "source": [
    "class quickReco:\n",
    "    \n",
    "    def __init__(self, name='', inputfile='', isTest=False):\n",
    "        \n",
    "        self.name = name\n",
    "        self.delphesFile= uproot.open(inputfile)['Delphes']\n",
    "        self.isTestRun = isTest\n",
    "        \n",
    "        # thresholds\n",
    "        self.minLepPt  = 15\n",
    "        self.maxLepEta = 2.5\n",
    "        self.minJetPt  = 20\n",
    "        self.maxJetEta = 2.5\n",
    "        \n",
    "        # variables unique for each event\n",
    "        self.selectedMuons = []\n",
    "        self.selectedElectrons = []\n",
    "        self.selectedJets = []\n",
    "        \n",
    "        # variables to keep track\n",
    "        self.nJets      = []\n",
    "        self.nElectrons = []\n",
    "        self.nMuons     = []\n",
    "        self.HT         = []\n",
    "        self.missingET  = []\n",
    "        self.dileptonMass = []\n",
    "        self.dileptonPT   = []\n",
    "        self.jetCutflow = {'all':0, 'pt>{}'.format(self.minJetPt):0, '|eta|<{}'.format(self.maxJetEta):0}\n",
    "        self.electronCutflow = {'all':0, 'pt>{}'.format(self.minLepPt):0, '|eta|<{}'.format(self.maxLepEta):0}\n",
    "        self.muonCutflow = {'all':0, 'pt>{}'.format(self.minLepPt):0, '|eta|<{}'.format(self.maxLepEta):0}\n",
    "        self.eventCutflow = {'all':0, 'El: >=2 lep':0, 'El: ==2 OS lep':0, 'El: Z window':0, 'Mu: >=2 lep':0, 'Mu: ==2 OS lep':0, 'Mu: Z window':0}\n",
    "        \n",
    "        # Branch Definitions\n",
    "        self.l_jetPt     = []\n",
    "        self.l_jetEta    = []\n",
    "        self.l_jetPhi    = []\n",
    "        self.l_jetMass   = []\n",
    "        self.l_elPt      = []\n",
    "        self.l_elEta     = []\n",
    "        self.l_elPhi     = []\n",
    "        self.l_elCharge  = []\n",
    "        self.l_muPt      = []\n",
    "        self.l_muEta     = []\n",
    "        self.l_muPhi     = []\n",
    "        self.l_muCharge  = []\n",
    "        self.l_missingET_met  = []\n",
    "        self.l_missingET_phi  = []\n",
    "        self.l_scalarHT       = []\n",
    "        \n",
    "        \n",
    "    def process(self):\n",
    "        \"\"\"main function for processing files\"\"\"\n",
    "        \n",
    "        # *** 0. Load Branches\n",
    "        self.loadBranches()\n",
    "        \n",
    "        # *** 1. Loop over events\n",
    "        for iEvent in range(0, len(self.delphesFile)):\n",
    "           \n",
    "            #keep track of events\n",
    "            if iEvent%500 == 0:\n",
    "                print(\"Processed {} events...\".format(iEvent))\n",
    "            \n",
    "            #skip out if testRun\n",
    "            if self.isTestRun and iEvent > 10:\n",
    "                continue\n",
    "            \n",
    "            # ** A. Re-initialize collections\n",
    "            self.selectedElectrons = []\n",
    "            self.selectedMuons = []\n",
    "            self.selectedJets = []\n",
    "            \n",
    "            # ** B. Object selection\n",
    "            self.leptonSelection('Electron', iEvent)\n",
    "            self.leptonSelection('Muon', iEvent)\n",
    "            self.jetSelection(iEvent)\n",
    "\n",
    "            # ** C. Event selection\n",
    "            self.eventSelection(iEvent)\n",
    "            \n",
    "\n",
    "       # *** 2. Print some summaries\n",
    "    \n",
    "    \n",
    "    def eventSelection(self, _iEvent):\n",
    "        \"\"\"function to select events\"\"\"\n",
    "        \n",
    "        #print(\"Evt: {}, N_electrons= {}, N_muons= {}\".format(_iEvent, len(self.selectedElectrons), len(self.selectedMuons)))\n",
    "        self.eventCutflow['all'] += 1\n",
    "        \n",
    "        if len(self.selectedElectrons) > 2 and len(self.selectedMuons)>2:\n",
    "            print(\">2 muons AND >2 electrons in Event {}. Ambiguous, so skipping...\".format(_iEvent))\n",
    "            return\n",
    "        \n",
    "        # ** 1. electron channel\n",
    "        self.dileptonReco(self.selectedElectrons, 'electron', _iEvent)\n",
    "\n",
    "        # ** 2. muon channel\n",
    "        self.dileptonReco(self.selectedMuons, 'muon', _iEvent)\n",
    "\n",
    "    def dileptonReco(self, _leptons, flavor, _iEvent):\n",
    "        \"\"\"helper function for dilepton reconstruction\"\"\"\n",
    "        \n",
    "        cutflowTag = 'El' if flavor=='electron' else 'Mu'\n",
    "        \n",
    "        if len( _leptons) >= 2:\n",
    "            self.eventCutflow['{}: >=2 lep'.format(cutflowTag)] += 1\n",
    "            \n",
    "            if len(_leptons) == 2:\n",
    "                lep0 = _leptons[0]\n",
    "                lep1 = _leptons[1]\n",
    "        \n",
    "                if lep0[1]*lep1[1] == -1:\n",
    "                    self.eventCutflow['{}: ==2 OS lep'.format(cutflowTag)] += 1\n",
    "                    \n",
    "                    m_ll = ( lep0[0] + lep1[0] ).mass\n",
    "                    pt_ll = ( lep0[0] + lep1[0] ).pt\n",
    "                    \n",
    "                    self.dileptonMass.append( m_ll)\n",
    "                    self.dileptonPT.append( pt_ll)\n",
    "            \n",
    "            elif len(_leptons) >2:\n",
    "                print(\"Event {} has >2 {}. print (pT, charge)...\".format(_iEvent, flavor))\n",
    "                for lep in _leptons:\n",
    "                    print(\"pt: {}, charge: {}\".format(lep[0].pt, lep[1]))\n",
    "                return\n",
    "            \n",
    "        else:\n",
    "            return\n",
    "            \n",
    "    def leptonSelection(self, flavor, _iEvent):\n",
    "        \"\"\"function for performing lepton selection\"\"\"\n",
    "        \n",
    "        _selectedLeptons = []\n",
    "        \n",
    "        _pt     = self.l_elPt if flavor=='Electron' else self.l_muPt \n",
    "        _eta    = self.l_elEta if flavor=='Electron' else self.l_muEta \n",
    "        _phi    = self.l_elPhi if flavor=='Electron' else self.l_muPhi\n",
    "        _charge = self.l_elCharge if flavor=='Electron' else self.l_muCharge \n",
    "        _mass   = 0.511 * 1e-3 if flavor == 'Electron' else 105.6*1e-3 # need conversion 1e-3 for MeV to GeV\n",
    "        \n",
    "        for iLep in range(0, len(_pt[_iEvent])): \n",
    "            if flavor=='Electron':\n",
    "                self.electronCutflow['all'] += 1\n",
    "            elif flavor=='Muon':\n",
    "                self.muonCutflow['all'] += 1\n",
    "             \n",
    "            # ** A. Check pt above min threshold\n",
    "            if _pt[_iEvent][iLep] < self.minLepPt:\n",
    "                continue\n",
    "                \n",
    "            if flavor=='Electron':\n",
    "                self.electronCutflow['pt>{}'.format(self.minLepPt)] += 1\n",
    "            elif flavor=='Muon':\n",
    "                self.muonCutflow['pt>{}'.format(self.minLepPt)] += 1\n",
    "                \n",
    "            # ** B. Check eta inside max abs eta range\n",
    "            if np.abs(_eta[_iEvent][iLep]) > self.maxLepEta:\n",
    "                continue\n",
    "\n",
    "            if flavor=='Electron':\n",
    "                self.electronCutflow['|eta|<{}'.format(self.maxLepEta)] += 1\n",
    "            elif flavor=='Muon':\n",
    "                self.muonCutflow['|eta|<{}'.format(self.maxLepEta)] += 1\n",
    "            \n",
    "            # ** C. Make LorentzVector and store\n",
    "            _tlv = TLorentzVector.PtEtaPhiMassLorentzVector( _pt[_iEvent][iLep], _eta[_iEvent][iLep], _phi[_iEvent][iLep], _mass)\n",
    "            _selectedLeptons.append( (_tlv, _charge[_iEvent][iLep]) )\n",
    "            \n",
    "            \n",
    "        # some global stuff after selection        \n",
    "        if flavor=='Electron':\n",
    "            self.selectedElectrons = _selectedLeptons\n",
    "            self.nElectrons.append( len(_selectedLeptons))\n",
    "        elif flavor=='Muon':\n",
    "            self.selectedMuons = _selectedLeptons\n",
    "            self.nMuons.append( len(_selectedLeptons))\n",
    "                \n",
    "                \n",
    "    def jetSelection(self, _iEvent):\n",
    "        \"\"\"function for performing jet selection\"\"\"\n",
    "        \n",
    "        _selectedJets = []\n",
    "        \n",
    "        _pt     = self.l_jetPt  \n",
    "        _eta    = self.l_jetEta \n",
    "        _phi    = self.l_jetPhi\n",
    "        _mass   = self.l_jetMass\n",
    "\n",
    "        for iJet in range(0, len(_pt[_iEvent])): \n",
    "            self.jetCutflow['all'] += 1\n",
    "             \n",
    "            # ** A. Check pt above min threshold\n",
    "            if _pt[_iEvent][iJet] < self.minJetPt:\n",
    "                continue\n",
    "                \n",
    "            self.jetCutflow['pt>{}'.format(self.minJetPt)] += 1\n",
    "                \n",
    "            # ** B. Check eta inside max abs eta range\n",
    "            if np.abs(_eta[_iEvent][iJet]) > self.maxJetEta:\n",
    "                continue\n",
    "\n",
    "            self.jetCutflow['|eta|<{}'.format(self.maxJetEta)] += 1\n",
    "            \n",
    "            # ** C. Make LorentzVector and store\n",
    "            _tlv = TLorentzVector.PtEtaPhiMassLorentzVector( _pt[_iEvent][iJet], _eta[_iEvent][iJet], _phi[_iEvent][iJet], _mass[_iEvent][iJet])\n",
    "            _selectedJets.append( _tlv )\n",
    "            \n",
    "        # some global stuff after selection        \n",
    "        self.selectedJets = _selectedJets\n",
    "        self.nJets.append( len(_selectedJets))\n",
    "       \n",
    "\n",
    "        \n",
    "    def loadBranches(self):\n",
    "        \"\"\"function for loading branches from delphes file\"\"\"\n",
    "            \n",
    "        # branches\n",
    "        self.l_jetPt   = uproot.tree.TBranchMethods.array(self.delphesFile['Jet']['Jet.PT']).tolist()\n",
    "        self.l_jetEta  = uproot.tree.TBranchMethods.array(self.delphesFile['Jet']['Jet.Eta']).tolist()\n",
    "        self.l_jetPhi  = uproot.tree.TBranchMethods.array(self.delphesFile['Jet']['Jet.Phi']).tolist()\n",
    "        self.l_jetMass = uproot.tree.TBranchMethods.array(self.delphesFile['Jet']['Jet.Mass']).tolist()\n",
    "        \n",
    "        self.l_elPt     = uproot.tree.TBranchMethods.array(self.delphesFile['Electron']['Electron.PT']).tolist()\n",
    "        self.l_elEta    = uproot.tree.TBranchMethods.array(self.delphesFile['Electron']['Electron.Eta']).tolist()\n",
    "        self.l_elPhi    = uproot.tree.TBranchMethods.array(self.delphesFile['Electron']['Electron.Phi']).tolist()\n",
    "        self.l_elCharge = uproot.tree.TBranchMethods.array(self.delphesFile['Electron']['Electron.Charge']).tolist()\n",
    "       \n",
    "        self.l_muPt     = uproot.tree.TBranchMethods.array(self.delphesFile['Muon']['Muon.PT']).tolist()\n",
    "        self.l_muEta    = uproot.tree.TBranchMethods.array(self.delphesFile['Muon']['Muon.Eta']).tolist()\n",
    "        self.l_muPhi    = uproot.tree.TBranchMethods.array(self.delphesFile['Muon']['Muon.Phi']).tolist()\n",
    "        self.l_muCharge = uproot.tree.TBranchMethods.array(self.delphesFile['Muon']['Muon.Charge']).tolist()\n",
    "        \n",
    "        self.l_missingET_met  = uproot.tree.TBranchMethods.array(self.delphesFile['MissingET']['MissingET.MET']).tolist()\n",
    "        self.l_missingET_phi  = uproot.tree.TBranchMethods.array(self.delphesFile['MissingET']['MissingET.Phi']).tolist()\n",
    "        self.l_scalarHT       = uproot.tree.TBranchMethods.array(self.delphesFile['ScalarHT']['ScalarHT.HT']).tolist()\n",
    "        \n",
    "        print(\"Finished loading branches...\")"
   ]
  },
  {
   "cell_type": "code",
   "execution_count": 5,
   "metadata": {},
   "outputs": [],
   "source": [
    "# Load files\n",
    "# SM\n",
    "pp2ll_reco = quickReco('pp2ll_SM', 'C:\\\\Users\\\\student\\\\Desktop\\\\College\\\\Summer_2020\\\\Research\\\\ppTOll_background\\\\seed_1_ll_delphes_events.root')\n",
    "\n",
    "\n",
    "pp2lljj_reco = quickReco('pp2lljj_SM', 'C:\\\\Users\\\\student\\\\Desktop\\\\College\\\\Summer_2020\\\\Research\\\\ppTOlljj_background\\\\seed_1_lljj_delphes_events.root')\n",
    "\n",
    "# 2HDM-a\n",
    "pp2llxdxd_reco   = quickReco('pp2ll_DM', 'C:\\\\Users\\\\student\\\\Desktop\\\\College\\\\Summer_2020\\\\Research\\\\ppTOllxdxd_signal\\\\seed_1_xdxd_delphes_events.root')\n"
   ]
  },
  {
   "cell_type": "code",
   "execution_count": 6,
   "metadata": {},
   "outputs": [
    {
     "name": "stdout",
     "output_type": "stream",
     "text": [
      "Finished loading branches...\n",
      "Processed 0 events...\n",
      "Processed 500 events...\n",
      "Processed 1000 events...\n",
      "Processed 1500 events...\n",
      "Processed 2000 events...\n",
      "Event 2219 has >2 electron. print (pT, charge)...\n",
      "pt: 32.233238220214844, charge: -1\n",
      "pt: 16.43926239013672, charge: 1\n",
      "pt: 15.273909568786621, charge: -1\n",
      "Processed 2500 events...\n",
      "Processed 3000 events...\n",
      "Processed 3500 events...\n",
      "Processed 4000 events...\n",
      "Processed 4500 events...\n",
      "Finished loading branches...\n",
      "Processed 0 events...\n",
      "Processed 500 events...\n",
      "Processed 1000 events...\n",
      "Processed 1500 events...\n",
      "Processed 2000 events...\n",
      "Processed 2500 events...\n",
      "Processed 3000 events...\n",
      "Processed 3500 events...\n",
      "Processed 4000 events...\n",
      "Processed 4500 events...\n",
      "Finished loading branches...\n",
      "Processed 0 events...\n",
      "Event 435 has >2 electron. print (pT, charge)...\n",
      "pt: 110.30042266845703, charge: 1\n",
      "pt: 40.64705276489258, charge: -1\n",
      "pt: 23.151653289794922, charge: 1\n",
      "Processed 500 events...\n",
      "Processed 1000 events...\n",
      "Processed 1500 events...\n",
      "Processed 2000 events...\n",
      "Processed 2500 events...\n",
      "Processed 3000 events...\n",
      "Processed 3500 events...\n",
      "Processed 4000 events...\n",
      "Processed 4500 events...\n"
     ]
    }
   ],
   "source": [
    "pp2ll_reco.process()\n",
    "pp2lljj_reco.process()\n",
    "pp2llxdxd_reco.process()"
   ]
  },
  {
   "cell_type": "code",
   "execution_count": 47,
   "metadata": {},
   "outputs": [
    {
     "data": {
      "text/plain": [
       "(array([2902.,  727., 1371.,    0.,    0.]),\n",
       " array([0, 1, 2, 3, 4, 5]),\n",
       " <BarContainer object of 5 artists>)"
      ]
     },
     "execution_count": 47,
     "metadata": {},
     "output_type": "execute_result"
    },
    {
     "data": {
      "image/png": "[encoded data removed]",
      "text/plain": [
       "<Figure size 432x288 with 1 Axes>"
      ]
     },
     "metadata": {
      "needs_background": "light"
     },
     "output_type": "display_data"
    }
   ],
   "source": [
    "plt.hist(pp2ll_reco.nMuons, bins=np.arange(0,6))"
   ]
  },
  {
   "cell_type": "code",
   "execution_count": 48,
   "metadata": {},
   "outputs": [
    {
     "data": {
      "image/png": "[encoded data removed]",
      "text/plain": [
       "<Figure size 432x288 with 1 Axes>"
      ]
     },
     "metadata": {
      "needs_background": "light"
     },
     "output_type": "display_data"
    },
    {
     "data": {
      "image/png": "[encoded data removed]",
      "text/plain": [
       "<Figure size 432x288 with 1 Axes>"
      ]
     },
     "metadata": {
      "needs_background": "light"
     },
     "output_type": "display_data"
    },
    {
     "data": {
      "image/png": "[encoded data removed]",
      "text/plain": [
       "<Figure size 432x288 with 1 Axes>"
      ]
     },
     "metadata": {
      "needs_background": "light"
     },
     "output_type": "display_data"
    }
   ],
   "source": [
    "plt.hist(pp2ll_reco.dileptonMass, bins=np.arange(20,160,5), alpha=0.4, label='SM ll')\n",
    "plt.hist(pp2lljj_reco.dileptonMass, bins=np.arange(20,160,5), alpha=0.4, label='SM ll+jj')\n",
    "plt.hist(pp2llxdxd_reco.dileptonMass, bins=np.arange(20,160,5), alpha=0.4, label='2HDMa ll+xdxd')\n",
    "plt.title('Dilepton Mass')\n",
    "plt.xlabel('Dilepton Mass [GeV]')\n",
    "plt.ylabel('Entries / 5 GeV')\n",
    "plt.legend()\n",
    "plt.show()\n",
    "\n",
    "plt.hist(pp2ll_reco.dileptonPT, bins=np.arange(0,300,5), alpha=0.4, label='SM ll')\n",
    "plt.hist(pp2lljj_reco.dileptonPT, bins=np.arange(0,300,5), alpha=0.4, label='SM ll+jj')\n",
    "plt.hist(pp2llxdxd_reco.dileptonPT, bins=np.arange(0,300,5), alpha=0.4, label='2HDMa ll+xdxd')\n",
    "plt.title('Dilepton PT')\n",
    "plt.xlabel('Dilepton PT [GeV]')\n",
    "plt.ylabel('Entries / 5 GeV')\n",
    "plt.legend()\n",
    "plt.show()\n",
    "\n",
    "plt.hist(pp2ll_reco.nJets, bins=np.arange(0,10), alpha=0.4, label='SM ll')\n",
    "plt.hist(pp2lljj_reco.nJets, bins=np.arange(0,10), alpha=0.4, label='SM ll+jj')\n",
    "plt.hist(pp2llxdxd_reco.nJets, bins=np.arange(0,10), alpha=0.4, label='2HDMa ll+xdxd')\n",
    "plt.title('Number of Jets')\n",
    "plt.xlabel('Number of Jets')\n",
    "plt.ylabel('Entries / Bin')\n",
    "plt.legend()\n",
    "plt.show()\n",
    "\n"
   ]
  },
  {
   "cell_type": "code",
   "execution_count": 49,
   "metadata": {
    "collapsed": true
   },
   "outputs": [
    {
     "data": {
      "image/png": "[encoded data removed]",
      "text/plain": [
       "<Figure size 432x288 with 1 Axes>"
      ]
     },
     "metadata": {
      "needs_background": "light"
     },
     "output_type": "display_data"
    }
   ],
   "source": [
    "pp2ll_met_array = []\n",
    "pp2lljj_met_array =[]\n",
    "pp2llxdxd_met_array = []\n",
    "\n",
    "for i,arr in enumerate (pp2ll_reco.l_missingET_met):\n",
    "    for j,value in enumerate(arr):\n",
    "        pp2ll_met_array.append(value)\n",
    "        \n",
    "for i,arr in enumerate (pp2lljj_reco.l_missingET_met):\n",
    "    for j,value in enumerate(arr):\n",
    "        pp2lljj_met_array.append(value)\n",
    "        \n",
    "for i,arr in enumerate (pp2llxdxd_reco.l_missingET_met):\n",
    "    for j,value in enumerate(arr):\n",
    "        pp2llxdxd_met_array.append(value)\n",
    "\n",
    "plt.hist(pp2ll_met_array, bins=np.arange(0,100,5), alpha=0.4, label='SM ll')\n",
    "plt.hist(pp2lljj_met_array, bins=np.arange(0,100,5), alpha=0.4, label='SM ll+jj')\n",
    "plt.hist(pp2llxdxd_met_array, bins=np.arange(0,100,5), alpha=0.4, label='2HDMa ll+xdxd')\n",
    "plt.title('Missing ET')\n",
    "plt.xlabel('Missing ET [GeV]')\n",
    "plt.ylabel('Entries / Bin')\n",
    "plt.legend()\n",
    "plt.show()"
   ]
  },
  {
   "cell_type": "code",
   "execution_count": 50,
   "metadata": {
    "collapsed": true
   },
   "outputs": [
    {
     "data": {
      "image/png": "[encoded data removed]",
      "text/plain": [
       "<Figure size 432x288 with 1 Axes>"
      ]
     },
     "metadata": {
      "needs_background": "light"
     },
     "output_type": "display_data"
    }
   ],
   "source": [
    "pp2ll_sht_array = []\n",
    "pp2lljj_sht_array =[]\n",
    "pp2llxdxd_sht_array = []\n",
    "\n",
    "for i,arr in enumerate (pp2ll_reco.l_scalarHT):\n",
    "    for j,value in enumerate(arr):\n",
    "        pp2ll_sht_array.append(value)\n",
    "        \n",
    "for i,arr in enumerate (pp2lljj_reco.l_scalarHT):\n",
    "    for j,value in enumerate(arr):\n",
    "        pp2lljj_sht_array.append(value)\n",
    "        \n",
    "for i,arr in enumerate (pp2llxdxd_reco.l_scalarHT):\n",
    "    for j,value in enumerate(arr):\n",
    "        pp2llxdxd_sht_array.append(value)\n",
    "\n",
    "plt.hist(pp2ll_sht_array, bins=np.arange(0,1000,10), alpha=0.4, label='SM ll')\n",
    "plt.hist(pp2lljj_sht_array, bins=np.arange(0,1000,10), alpha=0.4, label='SM ll+jj')\n",
    "plt.hist(pp2llxdxd_sht_array, bins=np.arange(0,1000,10), alpha=0.4, label='2HDMa ll+xdxd')\n",
    "plt.title('Scalar HT')\n",
    "plt.xlabel('Scalar HT [GeV]')\n",
    "plt.ylabel('Entries / Bin')\n",
    "plt.legend()\n",
    "plt.show()"
   ]
  },
  {
   "cell_type": "code",
   "execution_count": 135,
   "metadata": {},
   "outputs": [
    {
     "data": {
      "image/png": "[encoded data removed]",
      "text/plain": [
       "<Figure size 432x288 with 1 Axes>"
      ]
     },
     "metadata": {
      "needs_background": "light"
     },
     "output_type": "display_data"
    },
    {
     "data": {
      "image/png": "[encoded data removed]",
      "text/plain": [
       "<Figure size 432x288 with 1 Axes>"
      ]
     },
     "metadata": {
      "needs_background": "light"
     },
     "output_type": "display_data"
    },
    {
     "data": {
      "image/png": "[encoded data removed]",
      "text/plain": [
       "<Figure size 432x288 with 1 Axes>"
      ]
     },
     "metadata": {
      "needs_background": "light"
     },
     "output_type": "display_data"
    }
   ],
   "source": [
    "plt.hist2d(pp2ll_reco.nJets,pp2ll_met_array , bins = [7,25], density=True, cmap='plasma', range=((0,7),(0,50)))\n",
    "plt.title(\"Jets vs. MET for SM ll, Normalized\")\n",
    "plt.xlabel(\"Number of Jets\")\n",
    "plt.ylabel(\"Missing ET [GeV]\")\n",
    "plt.show()\n",
    "\n",
    "plt.hist2d(pp2lljj_reco.nJets, pp2lljj_met_array, bins=[7,25], density=True, cmap='plasma', range=((0,7),(0,50)))\n",
    "plt.title(\"Jets vs. MET for SM lljj, Normalized\")\n",
    "plt.xlabel(\"Number of Jets\")\n",
    "plt.ylabel(\"Missing ET [GeV]\")\n",
    "plt.show()\n",
    "\n",
    "plt.hist2d(pp2llxdxd_reco.nJets, pp2llxdxd_met_array, bins = [7,25], density=True, cmap='plasma', range=((0,7),(0,50)))\n",
    "plt.title(\"Jets vs. MET for 2HDMa, Normalized\")\n",
    "plt.xlabel(\"Number of Jets\")\n",
    "plt.ylabel(\"Missing ET [GeV]\")\n",
    "plt.show()"
   ]
  },
  {
   "cell_type": "code",
   "execution_count": 157,
   "metadata": {},
   "outputs": [
    {
     "ename": "ValueError",
     "evalue": "The truth value of an array with more than one element is ambiguous. Use a.any() or a.all()",
     "output_type": "error",
     "traceback": [
      "\u001b[1;31m---------------------------------------------------------------------------\u001b[0m",
      "\u001b[1;31mValueError\u001b[0m                                Traceback (most recent call last)",
      "\u001b[1;32m<ipython-input-157-27118068e93b>\u001b[0m in \u001b[0;36m<module>\u001b[1;34m\u001b[0m\n\u001b[0;32m     10\u001b[0m \u001b[1;33m\u001b[0m\u001b[0m\n\u001b[0;32m     11\u001b[0m \u001b[1;33m\u001b[0m\u001b[0m\n\u001b[1;32m---> 12\u001b[1;33m \u001b[0mplt\u001b[0m\u001b[1;33m.\u001b[0m\u001b[0mhist2d\u001b[0m\u001b[1;33m(\u001b[0m\u001b[0mpp2ll_dilPT_array\u001b[0m \u001b[1;33m,\u001b[0m \u001b[0mpp2ll_met_array\u001b[0m \u001b[1;33m,\u001b[0m \u001b[0mbins\u001b[0m \u001b[1;33m=\u001b[0m \u001b[1;36m10\u001b[0m\u001b[1;33m,\u001b[0m \u001b[0mdensity\u001b[0m\u001b[1;33m=\u001b[0m \u001b[1;32mTrue\u001b[0m\u001b[1;33m,\u001b[0m \u001b[0mcmap\u001b[0m\u001b[1;33m=\u001b[0m\u001b[1;34m'plasma'\u001b[0m\u001b[1;33m)\u001b[0m\u001b[1;33m\u001b[0m\u001b[1;33m\u001b[0m\u001b[0m\n\u001b[0m\u001b[0;32m     13\u001b[0m \u001b[0mplt\u001b[0m\u001b[1;33m.\u001b[0m\u001b[0mtitle\u001b[0m\u001b[1;33m(\u001b[0m\u001b[1;34m\"Jets vs. MET for SM ll, Normalized\"\u001b[0m\u001b[1;33m)\u001b[0m\u001b[1;33m\u001b[0m\u001b[1;33m\u001b[0m\u001b[0m\n\u001b[0;32m     14\u001b[0m \u001b[0mplt\u001b[0m\u001b[1;33m.\u001b[0m\u001b[0mxlabel\u001b[0m\u001b[1;33m(\u001b[0m\u001b[1;34m\"Number of Jets\"\u001b[0m\u001b[1;33m)\u001b[0m\u001b[1;33m\u001b[0m\u001b[1;33m\u001b[0m\u001b[0m\n",
      "\u001b[1;32mc:\\users\\student\\anaconda3\\envs\\opennotebook\\lib\\site-packages\\matplotlib\\pyplot.py\u001b[0m in \u001b[0;36mhist2d\u001b[1;34m(x, y, bins, range, density, weights, cmin, cmax, data, **kwargs)\u001b[0m\n\u001b[0;32m   2682\u001b[0m         \u001b[0mx\u001b[0m\u001b[1;33m,\u001b[0m \u001b[0my\u001b[0m\u001b[1;33m,\u001b[0m \u001b[0mbins\u001b[0m\u001b[1;33m=\u001b[0m\u001b[0mbins\u001b[0m\u001b[1;33m,\u001b[0m \u001b[0mrange\u001b[0m\u001b[1;33m=\u001b[0m\u001b[0mrange\u001b[0m\u001b[1;33m,\u001b[0m \u001b[0mdensity\u001b[0m\u001b[1;33m=\u001b[0m\u001b[0mdensity\u001b[0m\u001b[1;33m,\u001b[0m\u001b[1;33m\u001b[0m\u001b[1;33m\u001b[0m\u001b[0m\n\u001b[0;32m   2683\u001b[0m         \u001b[0mweights\u001b[0m\u001b[1;33m=\u001b[0m\u001b[0mweights\u001b[0m\u001b[1;33m,\u001b[0m \u001b[0mcmin\u001b[0m\u001b[1;33m=\u001b[0m\u001b[0mcmin\u001b[0m\u001b[1;33m,\u001b[0m \u001b[0mcmax\u001b[0m\u001b[1;33m=\u001b[0m\u001b[0mcmax\u001b[0m\u001b[1;33m,\u001b[0m\u001b[1;33m\u001b[0m\u001b[1;33m\u001b[0m\u001b[0m\n\u001b[1;32m-> 2684\u001b[1;33m         **({\"data\": data} if data is not None else {}), **kwargs)\n\u001b[0m\u001b[0;32m   2685\u001b[0m     \u001b[0msci\u001b[0m\u001b[1;33m(\u001b[0m\u001b[0m__ret\u001b[0m\u001b[1;33m[\u001b[0m\u001b[1;33m-\u001b[0m\u001b[1;36m1\u001b[0m\u001b[1;33m]\u001b[0m\u001b[1;33m)\u001b[0m\u001b[1;33m\u001b[0m\u001b[1;33m\u001b[0m\u001b[0m\n\u001b[0;32m   2686\u001b[0m     \u001b[1;32mreturn\u001b[0m \u001b[0m__ret\u001b[0m\u001b[1;33m\u001b[0m\u001b[1;33m\u001b[0m\u001b[0m\n",
      "\u001b[1;32mc:\\users\\student\\anaconda3\\envs\\opennotebook\\lib\\site-packages\\matplotlib\\__init__.py\u001b[0m in \u001b[0;36minner\u001b[1;34m(ax, data, *args, **kwargs)\u001b[0m\n\u001b[0;32m   1429\u001b[0m     \u001b[1;32mdef\u001b[0m \u001b[0minner\u001b[0m\u001b[1;33m(\u001b[0m\u001b[0max\u001b[0m\u001b[1;33m,\u001b[0m \u001b[1;33m*\u001b[0m\u001b[0margs\u001b[0m\u001b[1;33m,\u001b[0m \u001b[0mdata\u001b[0m\u001b[1;33m=\u001b[0m\u001b[1;32mNone\u001b[0m\u001b[1;33m,\u001b[0m \u001b[1;33m**\u001b[0m\u001b[0mkwargs\u001b[0m\u001b[1;33m)\u001b[0m\u001b[1;33m:\u001b[0m\u001b[1;33m\u001b[0m\u001b[1;33m\u001b[0m\u001b[0m\n\u001b[0;32m   1430\u001b[0m         \u001b[1;32mif\u001b[0m \u001b[0mdata\u001b[0m \u001b[1;32mis\u001b[0m \u001b[1;32mNone\u001b[0m\u001b[1;33m:\u001b[0m\u001b[1;33m\u001b[0m\u001b[1;33m\u001b[0m\u001b[0m\n\u001b[1;32m-> 1431\u001b[1;33m             \u001b[1;32mreturn\u001b[0m \u001b[0mfunc\u001b[0m\u001b[1;33m(\u001b[0m\u001b[0max\u001b[0m\u001b[1;33m,\u001b[0m \u001b[1;33m*\u001b[0m\u001b[0mmap\u001b[0m\u001b[1;33m(\u001b[0m\u001b[0msanitize_sequence\u001b[0m\u001b[1;33m,\u001b[0m \u001b[0margs\u001b[0m\u001b[1;33m)\u001b[0m\u001b[1;33m,\u001b[0m \u001b[1;33m**\u001b[0m\u001b[0mkwargs\u001b[0m\u001b[1;33m)\u001b[0m\u001b[1;33m\u001b[0m\u001b[1;33m\u001b[0m\u001b[0m\n\u001b[0m\u001b[0;32m   1432\u001b[0m \u001b[1;33m\u001b[0m\u001b[0m\n\u001b[0;32m   1433\u001b[0m         \u001b[0mbound\u001b[0m \u001b[1;33m=\u001b[0m \u001b[0mnew_sig\u001b[0m\u001b[1;33m.\u001b[0m\u001b[0mbind\u001b[0m\u001b[1;33m(\u001b[0m\u001b[0max\u001b[0m\u001b[1;33m,\u001b[0m \u001b[1;33m*\u001b[0m\u001b[0margs\u001b[0m\u001b[1;33m,\u001b[0m \u001b[1;33m**\u001b[0m\u001b[0mkwargs\u001b[0m\u001b[1;33m)\u001b[0m\u001b[1;33m\u001b[0m\u001b[1;33m\u001b[0m\u001b[0m\n",
      "\u001b[1;32mc:\\users\\student\\anaconda3\\envs\\opennotebook\\lib\\site-packages\\matplotlib\\axes\\_axes.py\u001b[0m in \u001b[0;36mhist2d\u001b[1;34m(self, x, y, bins, range, density, weights, cmin, cmax, **kwargs)\u001b[0m\n\u001b[0;32m   6900\u001b[0m \u001b[1;33m\u001b[0m\u001b[0m\n\u001b[0;32m   6901\u001b[0m         h, xedges, yedges = np.histogram2d(x, y, bins=bins, range=range,\n\u001b[1;32m-> 6902\u001b[1;33m                                            density=density, weights=weights)\n\u001b[0m\u001b[0;32m   6903\u001b[0m \u001b[1;33m\u001b[0m\u001b[0m\n\u001b[0;32m   6904\u001b[0m         \u001b[1;32mif\u001b[0m \u001b[0mcmin\u001b[0m \u001b[1;32mis\u001b[0m \u001b[1;32mnot\u001b[0m \u001b[1;32mNone\u001b[0m\u001b[1;33m:\u001b[0m\u001b[1;33m\u001b[0m\u001b[1;33m\u001b[0m\u001b[0m\n",
      "\u001b[1;32m<__array_function__ internals>\u001b[0m in \u001b[0;36mhistogram2d\u001b[1;34m(*args, **kwargs)\u001b[0m\n",
      "\u001b[1;32mc:\\users\\student\\anaconda3\\envs\\opennotebook\\lib\\site-packages\\numpy\\lib\\twodim_base.py\u001b[0m in \u001b[0;36mhistogram2d\u001b[1;34m(x, y, bins, range, normed, weights, density)\u001b[0m\n\u001b[0;32m    711\u001b[0m         \u001b[0mxedges\u001b[0m \u001b[1;33m=\u001b[0m \u001b[0myedges\u001b[0m \u001b[1;33m=\u001b[0m \u001b[0masarray\u001b[0m\u001b[1;33m(\u001b[0m\u001b[0mbins\u001b[0m\u001b[1;33m)\u001b[0m\u001b[1;33m\u001b[0m\u001b[1;33m\u001b[0m\u001b[0m\n\u001b[0;32m    712\u001b[0m         \u001b[0mbins\u001b[0m \u001b[1;33m=\u001b[0m \u001b[1;33m[\u001b[0m\u001b[0mxedges\u001b[0m\u001b[1;33m,\u001b[0m \u001b[0myedges\u001b[0m\u001b[1;33m]\u001b[0m\u001b[1;33m\u001b[0m\u001b[1;33m\u001b[0m\u001b[0m\n\u001b[1;32m--> 713\u001b[1;33m     \u001b[0mhist\u001b[0m\u001b[1;33m,\u001b[0m \u001b[0medges\u001b[0m \u001b[1;33m=\u001b[0m \u001b[0mhistogramdd\u001b[0m\u001b[1;33m(\u001b[0m\u001b[1;33m[\u001b[0m\u001b[0mx\u001b[0m\u001b[1;33m,\u001b[0m \u001b[0my\u001b[0m\u001b[1;33m]\u001b[0m\u001b[1;33m,\u001b[0m \u001b[0mbins\u001b[0m\u001b[1;33m,\u001b[0m \u001b[0mrange\u001b[0m\u001b[1;33m,\u001b[0m \u001b[0mnormed\u001b[0m\u001b[1;33m,\u001b[0m \u001b[0mweights\u001b[0m\u001b[1;33m,\u001b[0m \u001b[0mdensity\u001b[0m\u001b[1;33m)\u001b[0m\u001b[1;33m\u001b[0m\u001b[1;33m\u001b[0m\u001b[0m\n\u001b[0m\u001b[0;32m    714\u001b[0m     \u001b[1;32mreturn\u001b[0m \u001b[0mhist\u001b[0m\u001b[1;33m,\u001b[0m \u001b[0medges\u001b[0m\u001b[1;33m[\u001b[0m\u001b[1;36m0\u001b[0m\u001b[1;33m]\u001b[0m\u001b[1;33m,\u001b[0m \u001b[0medges\u001b[0m\u001b[1;33m[\u001b[0m\u001b[1;36m1\u001b[0m\u001b[1;33m]\u001b[0m\u001b[1;33m\u001b[0m\u001b[1;33m\u001b[0m\u001b[0m\n\u001b[0;32m    715\u001b[0m \u001b[1;33m\u001b[0m\u001b[0m\n",
      "\u001b[1;32m<__array_function__ internals>\u001b[0m in \u001b[0;36mhistogramdd\u001b[1;34m(*args, **kwargs)\u001b[0m\n",
      "\u001b[1;32mc:\\users\\student\\anaconda3\\envs\\opennotebook\\lib\\site-packages\\numpy\\lib\\histograms.py\u001b[0m in \u001b[0;36mhistogramdd\u001b[1;34m(sample, bins, range, normed, weights, density)\u001b[0m\n\u001b[0;32m   1047\u001b[0m                 raise ValueError(\n\u001b[0;32m   1048\u001b[0m                     '`bins[{}]` must be positive, when an integer'.format(i))\n\u001b[1;32m-> 1049\u001b[1;33m             \u001b[0msmin\u001b[0m\u001b[1;33m,\u001b[0m \u001b[0msmax\u001b[0m \u001b[1;33m=\u001b[0m \u001b[0m_get_outer_edges\u001b[0m\u001b[1;33m(\u001b[0m\u001b[0msample\u001b[0m\u001b[1;33m[\u001b[0m\u001b[1;33m:\u001b[0m\u001b[1;33m,\u001b[0m\u001b[0mi\u001b[0m\u001b[1;33m]\u001b[0m\u001b[1;33m,\u001b[0m \u001b[0mrange\u001b[0m\u001b[1;33m[\u001b[0m\u001b[0mi\u001b[0m\u001b[1;33m]\u001b[0m\u001b[1;33m)\u001b[0m\u001b[1;33m\u001b[0m\u001b[1;33m\u001b[0m\u001b[0m\n\u001b[0m\u001b[0;32m   1050\u001b[0m             \u001b[1;32mtry\u001b[0m\u001b[1;33m:\u001b[0m\u001b[1;33m\u001b[0m\u001b[1;33m\u001b[0m\u001b[0m\n\u001b[0;32m   1051\u001b[0m                 \u001b[0mn\u001b[0m \u001b[1;33m=\u001b[0m \u001b[0moperator\u001b[0m\u001b[1;33m.\u001b[0m\u001b[0mindex\u001b[0m\u001b[1;33m(\u001b[0m\u001b[0mbins\u001b[0m\u001b[1;33m[\u001b[0m\u001b[0mi\u001b[0m\u001b[1;33m]\u001b[0m\u001b[1;33m)\u001b[0m\u001b[1;33m\u001b[0m\u001b[1;33m\u001b[0m\u001b[0m\n",
      "\u001b[1;32mc:\\users\\student\\anaconda3\\envs\\opennotebook\\lib\\site-packages\\numpy\\lib\\histograms.py\u001b[0m in \u001b[0;36m_get_outer_edges\u001b[1;34m(a, range)\u001b[0m\n\u001b[0;32m    320\u001b[0m     \u001b[1;32melse\u001b[0m\u001b[1;33m:\u001b[0m\u001b[1;33m\u001b[0m\u001b[1;33m\u001b[0m\u001b[0m\n\u001b[0;32m    321\u001b[0m         \u001b[0mfirst_edge\u001b[0m\u001b[1;33m,\u001b[0m \u001b[0mlast_edge\u001b[0m \u001b[1;33m=\u001b[0m \u001b[0ma\u001b[0m\u001b[1;33m.\u001b[0m\u001b[0mmin\u001b[0m\u001b[1;33m(\u001b[0m\u001b[1;33m)\u001b[0m\u001b[1;33m,\u001b[0m \u001b[0ma\u001b[0m\u001b[1;33m.\u001b[0m\u001b[0mmax\u001b[0m\u001b[1;33m(\u001b[0m\u001b[1;33m)\u001b[0m\u001b[1;33m\u001b[0m\u001b[1;33m\u001b[0m\u001b[0m\n\u001b[1;32m--> 322\u001b[1;33m         \u001b[1;32mif\u001b[0m \u001b[1;32mnot\u001b[0m \u001b[1;33m(\u001b[0m\u001b[0mnp\u001b[0m\u001b[1;33m.\u001b[0m\u001b[0misfinite\u001b[0m\u001b[1;33m(\u001b[0m\u001b[0mfirst_edge\u001b[0m\u001b[1;33m)\u001b[0m \u001b[1;32mand\u001b[0m \u001b[0mnp\u001b[0m\u001b[1;33m.\u001b[0m\u001b[0misfinite\u001b[0m\u001b[1;33m(\u001b[0m\u001b[0mlast_edge\u001b[0m\u001b[1;33m)\u001b[0m\u001b[1;33m)\u001b[0m\u001b[1;33m:\u001b[0m\u001b[1;33m\u001b[0m\u001b[1;33m\u001b[0m\u001b[0m\n\u001b[0m\u001b[0;32m    323\u001b[0m             raise ValueError(\n\u001b[0;32m    324\u001b[0m                 \"autodetected range of [{}, {}] is not finite\".format(first_edge, last_edge))\n",
      "\u001b[1;31mValueError\u001b[0m: The truth value of an array with more than one element is ambiguous. Use a.any() or a.all()"
     ]
    },
    {
     "data": {
      "image/png": "[encoded data removed]",
      "text/plain": [
       "<Figure size 432x288 with 1 Axes>"
      ]
     },
     "metadata": {
      "needs_background": "light"
     },
     "output_type": "display_data"
    }
   ],
   "source": [
    "pp2ll_dilPT_array = []\n",
    "\n",
    "for i, value in enumerate(pp2ll_reco.dileptonPT):\n",
    "    if value<0:\n",
    "        continue\n",
    "    elif value>300:\n",
    "        continue\n",
    "    else:\n",
    "        pp2ll_dilPT_array.append(value)\n",
    "    \n",
    "\n",
    "plt.hist2d(pp2ll_reco.dileptonPT , pp2ll_met_array , bins = 10, density= True, cmap='plasma')\n",
    "plt.title(\"Jets vs. MET for SM ll, Normalized\")\n",
    "plt.xlabel(\"Number of Jets\")\n",
    "plt.ylabel(\"Missing ET [GeV]\")\n",
    "plt.show()\n",
    "\n",
    "plt.hist2d(pp2lljj_reco.nJets, pp2lljj_met_array, bins=[10,20], density=True, cmap='plasma')\n",
    "plt.title(\"Jets vs. MET for SM lljj, Normalized\")\n",
    "plt.xlabel(\"Number of Jets\")\n",
    "plt.ylabel(\"Missing ET [GeV]\")\n",
    "plt.show()\n",
    "\n",
    "plt.hist2d(pp2llxdxd_reco.nJets, pp2llxdxd_met_array, bins = [10,20], density=True, cmap='plasma')\n",
    "plt.title(\"Jets vs. MET for 2HDMa, Normalized\")\n",
    "plt.xlabel(\"Number of Jets\")\n",
    "plt.ylabel(\"Missing ET [GeV]\")\n",
    "plt.show()"
   ]
  },
  {
   "cell_type": "code",
   "execution_count": 14,
   "metadata": {},
   "outputs": [
    {
     "name": "stdout",
     "output_type": "stream",
     "text": [
      "2216\n",
      "2216\n"
     ]
    }
   ],
   "source": [
    "print(len(pp2ll_reco.dileptonPT))\n",
    "print(sum([1 for x in pp2ll_reco.dileptonPT]))"
   ]
  },
  {
   "cell_type": "code",
   "execution_count": null,
   "metadata": {},
   "outputs": [],
   "source": []
  }
 ],
 "metadata": {
  "kernelspec": {
   "display_name": "Python 3",
   "language": "python",
   "name": "python3"
  },
  "language_info": {
   "codemirror_mode": {
    "name": "ipython",
    "version": 3
   },
   "file_extension": ".py",
   "mimetype": "text/x-python",
   "name": "python",
   "nbconvert_exporter": "python",
   "pygments_lexer": "ipython3",
   "version": "3.7.7"
  }
 },
 "nbformat": 4,
 "nbformat_minor": 4
}
