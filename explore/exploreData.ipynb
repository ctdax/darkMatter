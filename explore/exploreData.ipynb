{
 "cells": [
  {
   "cell_type": "code",
   "execution_count": null,
   "metadata": {},
   "outputs": [],
   "source": [
    "# TO_DO\n",
    "# 1) load files\n",
    "# 2) plot simple quantities\n",
    "# 3) object selection\n",
    "# 4) event selection"
   ]
  },
  {
   "cell_type": "code",
   "execution_count": 21,
   "metadata": {},
   "outputs": [],
   "source": [
    "import uproot, uproot_methods\n",
    "import uproot_methods.classes.TLorentzVector as TLorentzVector\n",
    "import numpy as np\n",
    "from matplotlib import pyplot as plt"
   ]
  },
  {
   "cell_type": "code",
   "execution_count": null,
   "metadata": {},
   "outputs": [],
   "source": []
  },
  {
   "cell_type": "code",
   "execution_count": null,
   "metadata": {},
   "outputs": [],
   "source": []
  },
  {
   "cell_type": "code",
   "execution_count": 70,
   "metadata": {},
   "outputs": [],
   "source": [
    "class quickReco:\n",
    "    \n",
    "    def __init__(self, name='', inputfile='', isTest=False):\n",
    "        \n",
    "        self.name = name\n",
    "        self.delphesFile= uproot.open(inputfile)['Delphes']\n",
    "        self.isTestRun = isTest\n",
    "        \n",
    "        # thresholds\n",
    "        self.minLepPt  = 15\n",
    "        self.maxLepEta = 2.5\n",
    "        self.minJetPt  = 20\n",
    "        self.maxJetEta = 2.5\n",
    "        \n",
    "        # variables unique for each event\n",
    "        self.selectedMuons = []\n",
    "        self.selectedElectrons = []\n",
    "        self.selectedJets = []\n",
    "        \n",
    "        # variables to keep track\n",
    "        self.nJets      = []\n",
    "        self.nElectrons = []\n",
    "        self.nMuons     = []\n",
    "        self.HT         = []\n",
    "        self.missingET  = []\n",
    "        self.dileptonMass = []\n",
    "        self.dileptonPT   = []\n",
    "        self.jetCutflow = {'all':0, 'pt>{}'.format(self.minJetPt):0, '|eta|<{}'.format(self.maxJetEta):0}\n",
    "        self.electronCutflow = {'all':0, 'pt>{}'.format(self.minLepPt):0, '|eta|<{}'.format(self.maxLepEta):0}\n",
    "        self.muonCutflow = {'all':0, 'pt>{}'.format(self.minLepPt):0, '|eta|<{}'.format(self.maxLepEta):0}\n",
    "        self.eventCutflow = {'all':0, 'El: >=2 lep':0, 'El: ==2 OS lep':0, 'El: Z window':0, 'Mu: >=2 lep':0, 'Mu: ==2 OS lep':0, 'Mu: Z window':0}\n",
    "        \n",
    "        # Branch Definitions\n",
    "        self.l_jetPt     = []\n",
    "        self.l_jetEta    = []\n",
    "        self.l_jetPhi    = []\n",
    "        self.l_jetMass   = []\n",
    "        self.l_elPt      = []\n",
    "        self.l_elEta     = []\n",
    "        self.l_elPhi     = []\n",
    "        self.l_elCharge  = []\n",
    "        self.l_muPt      = []\n",
    "        self.l_muEta     = []\n",
    "        self.l_muPhi     = []\n",
    "        self.l_muCharge  = []\n",
    "        self.l_missingET_met  = []\n",
    "        self.l_missingET_phi  = []\n",
    "        self.l_scalarHT       = []\n",
    "        \n",
    "        \n",
    "    def process(self):\n",
    "        \"\"\"main function for processing files\"\"\"\n",
    "        \n",
    "        # *** 0. Load Branches\n",
    "        self.loadBranches()\n",
    "        \n",
    "        # *** 1. Loop over events\n",
    "        for iEvent in range(0, len(self.delphesFile)):\n",
    "           \n",
    "            #keep track of events\n",
    "            if iEvent%500 == 0:\n",
    "                print(\"Processed {} events...\".format(iEvent))\n",
    "            \n",
    "            #skip out if testRun\n",
    "            if self.isTestRun and iEvent > 10:\n",
    "                continue\n",
    "            \n",
    "            # ** A. Re-initialize collections\n",
    "            self.selectedElectrons = []\n",
    "            self.selectedMuons = []\n",
    "            self.selectedJets = []\n",
    "            \n",
    "            # ** B. Object selection\n",
    "            self.leptonSelection('Electron', iEvent)\n",
    "            self.leptonSelection('Muon', iEvent)\n",
    "            self.jetSelection(iEvent)\n",
    "\n",
    "            # ** C. Event selection\n",
    "            self.eventSelection(iEvent)\n",
    "\n",
    "       # *** 2. Print some summaries\n",
    "    \n",
    "    \n",
    "    def eventSelection(self, _iEvent):\n",
    "        \"\"\"function to select events\"\"\"\n",
    "        \n",
    "        #print(\"Evt: {}, N_electrons= {}, N_muons= {}\".format(_iEvent, len(self.selectedElectrons), len(self.selectedMuons)))\n",
    "        self.eventCutflow['all'] += 1\n",
    "        \n",
    "        if len(self.selectedElectrons) > 2 and len(self.selectedMuons)>2:\n",
    "            print(\">2 muons AND >2 electrons in Event {}. Ambiguous, so skipping...\".format(_iEvent))\n",
    "            return\n",
    "        \n",
    "        # ** 1. electron channel\n",
    "        self.dileptonReco(self.selectedElectrons, 'electron', _iEvent)\n",
    "\n",
    "        # ** 2. muon channel\n",
    "        self.dileptonReco(self.selectedMuons, 'muon', _iEvent)\n",
    "\n",
    "    def dileptonReco(self, _leptons, flavor, _iEvent):\n",
    "        \"\"\"helper function for dilepton reconstruction\"\"\"\n",
    "        \n",
    "        cutflowTag = 'El' if flavor=='electron' else 'Mu'\n",
    "        \n",
    "        if len( _leptons) >= 2:\n",
    "            self.eventCutflow['{}: >=2 lep'.format(cutflowTag)] += 1\n",
    "            \n",
    "            if len(_leptons) == 2:\n",
    "                lep0 = _leptons[0]\n",
    "                lep1 = _leptons[1]\n",
    "        \n",
    "                if lep0[1]*lep1[1] == -1:\n",
    "                    self.eventCutflow['{}: ==2 OS lep'.format(cutflowTag)] += 1\n",
    "                    \n",
    "                    m_ll = ( lep0[0] + lep1[0] ).mass\n",
    "                    pt_ll = ( lep0[0] + lep1[0] ).pt\n",
    "                    \n",
    "                    self.dileptonMass.append( m_ll)\n",
    "                    self.dileptonPT.append( pt_ll)\n",
    "            \n",
    "            elif len(_leptons) >2:\n",
    "                print(\"Event {} has >2 {}. print (pT, charge)...\".format(_iEvent, flavor))\n",
    "                for lep in _leptons:\n",
    "                    print(\"pt: {}, charge: {}\".format(lep[0].pt, lep[1]))\n",
    "                return\n",
    "            \n",
    "        else:\n",
    "            return\n",
    "            \n",
    "    def leptonSelection(self, flavor, _iEvent):\n",
    "        \"\"\"function for performing lepton selection\"\"\"\n",
    "        \n",
    "        _selectedLeptons = []\n",
    "        \n",
    "        _pt     = self.l_elPt if flavor=='Electron' else self.l_muPt \n",
    "        _eta    = self.l_elEta if flavor=='Electron' else self.l_muEta \n",
    "        _phi    = self.l_elPhi if flavor=='Electron' else self.l_muPhi\n",
    "        _charge = self.l_elCharge if flavor=='Electron' else self.l_muCharge \n",
    "        _mass   = 0.511 * 1e-3 if flavor == 'Electron' else 105.6*1e-3 # need conversion 1e-3 for MeV to GeV\n",
    "        \n",
    "        for iLep in range(0, len(_pt[_iEvent])): \n",
    "            if flavor=='Electron':\n",
    "                self.electronCutflow['all'] += 1\n",
    "            elif flavor=='Muon':\n",
    "                self.muonCutflow['all'] += 1\n",
    "             \n",
    "            # ** A. Check pt above min threshold\n",
    "            if _pt[_iEvent][iLep] < self.minLepPt:\n",
    "                continue\n",
    "                \n",
    "            if flavor=='Electron':\n",
    "                self.electronCutflow['pt>{}'.format(self.minLepPt)] += 1\n",
    "            elif flavor=='Muon':\n",
    "                self.muonCutflow['pt>{}'.format(self.minLepPt)] += 1\n",
    "                \n",
    "            # ** B. Check eta inside max abs eta range\n",
    "            if np.abs(_eta[_iEvent][iLep]) > self.maxLepEta:\n",
    "                continue\n",
    "\n",
    "            if flavor=='Electron':\n",
    "                self.electronCutflow['|eta|<{}'.format(self.maxLepEta)] += 1\n",
    "            elif flavor=='Muon':\n",
    "                self.muonCutflow['|eta|<{}'.format(self.maxLepEta)] += 1\n",
    "            \n",
    "            # ** C. Make LorentzVector and store\n",
    "            _tlv = TLorentzVector.PtEtaPhiMassLorentzVector( _pt[_iEvent][iLep], _eta[_iEvent][iLep], _phi[_iEvent][iLep], _mass)\n",
    "            _selectedLeptons.append( (_tlv, _charge[_iEvent][iLep]) )\n",
    "            \n",
    "            \n",
    "        # some global stuff after selection        \n",
    "        if flavor=='Electron':\n",
    "            self.selectedElectrons = _selectedLeptons\n",
    "            self.nElectrons.append( len(_selectedLeptons))\n",
    "        elif flavor=='Muon':\n",
    "            self.selectedMuons = _selectedLeptons\n",
    "            self.nMuons.append( len(_selectedLeptons))\n",
    "                \n",
    "                \n",
    "    def jetSelection(self, _iEvent):\n",
    "        \"\"\"function for performing jet selection\"\"\"\n",
    "        \n",
    "        _selectedJets = []\n",
    "        \n",
    "        _pt     = self.l_jetPt  \n",
    "        _eta    = self.l_jetEta \n",
    "        _phi    = self.l_jetPhi\n",
    "        _mass   = self.l_jetMass\n",
    "        \n",
    "        for iJet in range(0, len(_pt[_iEvent])): \n",
    "            self.jetCutflow['all'] += 1\n",
    "             \n",
    "            # ** A. Check pt above min threshold\n",
    "            if _pt[_iEvent][iJet] < self.minJetPt:\n",
    "                continue\n",
    "                \n",
    "            self.jetCutflow['pt>{}'.format(self.minJetPt)] += 1\n",
    "                \n",
    "            # ** B. Check eta inside max abs eta range\n",
    "            if np.abs(_eta[_iEvent][iJet]) > self.maxJetEta:\n",
    "                continue\n",
    "\n",
    "            self.jetCutflow['|eta|<{}'.format(self.maxJetEta)] += 1\n",
    "            \n",
    "            # ** C. Make LorentzVector and store\n",
    "            _tlv = TLorentzVector.PtEtaPhiMassLorentzVector( _pt[_iEvent][iJet], _eta[_iEvent][iJet], _phi[_iEvent][iJet], _mass[_iEvent][iJet])\n",
    "            _selectedJets.append( _tlv )\n",
    "            \n",
    "        # some global stuff after selection        \n",
    "        self.selectedJets = _selectedJets\n",
    "        self.nJets.append( len(_selectedJets))\n",
    "\n",
    "        \n",
    "    def loadBranches(self):\n",
    "        \"\"\"function for loading branches from delphes file\"\"\"\n",
    "            \n",
    "        # branches\n",
    "        self.l_jetPt   = uproot.tree.TBranchMethods.array(self.delphesFile['Jet']['Jet.PT']).tolist()\n",
    "        self.l_jetEta  = uproot.tree.TBranchMethods.array(self.delphesFile['Jet']['Jet.Eta']).tolist()\n",
    "        self.l_jetPhi  = uproot.tree.TBranchMethods.array(self.delphesFile['Jet']['Jet.Phi']).tolist()\n",
    "        self.l_jetMass = uproot.tree.TBranchMethods.array(self.delphesFile['Jet']['Jet.Mass']).tolist()\n",
    "        \n",
    "        self.l_elPt     = uproot.tree.TBranchMethods.array(self.delphesFile['Electron']['Electron.PT']).tolist()\n",
    "        self.l_elEta    = uproot.tree.TBranchMethods.array(self.delphesFile['Electron']['Electron.Eta']).tolist()\n",
    "        self.l_elPhi    = uproot.tree.TBranchMethods.array(self.delphesFile['Electron']['Electron.Phi']).tolist()\n",
    "        self.l_elCharge = uproot.tree.TBranchMethods.array(self.delphesFile['Electron']['Electron.Charge']).tolist()\n",
    "       \n",
    "        self.l_muPt     = uproot.tree.TBranchMethods.array(self.delphesFile['Muon']['Muon.PT']).tolist()\n",
    "        self.l_muEta    = uproot.tree.TBranchMethods.array(self.delphesFile['Muon']['Muon.Eta']).tolist()\n",
    "        self.l_muPhi    = uproot.tree.TBranchMethods.array(self.delphesFile['Muon']['Muon.Phi']).tolist()\n",
    "        self.l_muCharge = uproot.tree.TBranchMethods.array(self.delphesFile['Muon']['Muon.Charge']).tolist()\n",
    "        \n",
    "        self.l_missingET_met  = uproot.tree.TBranchMethods.array(self.delphesFile['MissingET']['MissingET.MET']).tolist()\n",
    "        self.l_missingET_phi  = uproot.tree.TBranchMethods.array(self.delphesFile['MissingET']['MissingET.Phi']).tolist()\n",
    "        self.l_scalarHT       = uproot.tree.TBranchMethods.array(self.delphesFile['ScalarHT']['ScalarHT.HT']).tolist()\n",
    "        \n",
    "        print(\"Finished loading branches...\")"
   ]
  },
  {
   "cell_type": "code",
   "execution_count": null,
   "metadata": {},
   "outputs": [],
   "source": []
  },
  {
   "cell_type": "code",
   "execution_count": 101,
   "metadata": {},
   "outputs": [],
   "source": [
    "# Load files\n",
    "# SM\n",
    "pp2ll_reco   = quickReco('pp2ll_SM', '/home/btannenw/Desktop/ML/darkMatter/MG5_aMC_v2_7_3/pp2ll_SM_5k/Events/run_01/tag_1_delphes_events.root')\n",
    "pp2lljj_reco = quickReco('pp2lljj_SM', '/home/btannenw/Desktop/ML/darkMatter/MG5_aMC_v2_7_3/pp2lljj_SM_5k/Events/run_01/tag_1_delphes_events.root')\n",
    "\n",
    "# 2HDM-a\n",
    "pp2llxdxd_reco   = quickReco('pp2ll_SM', '/home/btannenw/Desktop/ML/darkMatter/MG5_aMC_v2_7_3/pp2llxdxd_2HDMa_5k/Events/run_01/tag_1_delphes_events.root')\n"
   ]
  },
  {
   "cell_type": "code",
   "execution_count": 77,
   "metadata": {},
   "outputs": [
    {
     "name": "stdout",
     "output_type": "stream",
     "text": [
      "Finished loading branches...\n",
      "Processed 0 events...\n",
      "Processed 500 events...\n",
      "Processed 1000 events...\n",
      "Processed 1500 events...\n",
      "Processed 2000 events...\n",
      "Processed 2500 events...\n",
      "Event 2825 has >2 electron. print (pT, charge)...\n",
      "pt: 42.27481460571289, charge: -1\n",
      "pt: 20.41227149963379, charge: -1\n",
      "pt: 19.565685272216797, charge: 1\n",
      "Processed 3000 events...\n",
      "Processed 3500 events...\n",
      "Processed 4000 events...\n",
      "Processed 4500 events...\n",
      "Finished loading branches...\n",
      "Processed 0 events...\n",
      "Processed 500 events...\n",
      "Processed 1000 events...\n",
      "Processed 1500 events...\n",
      "Processed 2000 events...\n",
      "Processed 2500 events...\n",
      "Processed 3000 events...\n",
      "Processed 3500 events...\n",
      "Processed 4000 events...\n",
      "Processed 4500 events...\n",
      "Finished loading branches...\n",
      "Processed 0 events...\n",
      "Event 237 has >2 electron. print (pT, charge)...\n",
      "pt: 222.32325744628906, charge: 1\n",
      "pt: 58.642738342285156, charge: 1\n",
      "pt: 43.804927825927734, charge: -1\n",
      "pt: 28.524354934692383, charge: -1\n",
      "Processed 500 events...\n",
      "Processed 1000 events...\n",
      "Processed 1500 events...\n",
      "Processed 2000 events...\n",
      "Processed 2500 events...\n",
      "Event 2669 has >2 electron. print (pT, charge)...\n",
      "pt: 85.69772338867188, charge: 1\n",
      "pt: 47.85065841674805, charge: -1\n",
      "pt: 39.62587356567383, charge: 1\n",
      "Processed 3000 events...\n",
      "Processed 3500 events...\n",
      "Processed 4000 events...\n",
      "Processed 4500 events...\n",
      "Event 4867 has >2 electron. print (pT, charge)...\n",
      "pt: 86.17922973632812, charge: 1\n",
      "pt: 40.49348068237305, charge: 1\n",
      "pt: 34.353511810302734, charge: -1\n",
      "Finished loading branches...\n",
      "Processed 0 events...\n",
      "Processed 500 events...\n",
      "Event 814 has >2 electron. print (pT, charge)...\n",
      "pt: 43.55281066894531, charge: -1\n",
      "pt: 20.698701858520508, charge: 1\n",
      "pt: 15.059490203857422, charge: 1\n",
      "Processed 1000 events...\n",
      "Event 1436 has >2 electron. print (pT, charge)...\n",
      "pt: 43.68913650512695, charge: 1\n",
      "pt: 30.494949340820312, charge: -1\n",
      "pt: 29.262317657470703, charge: -1\n",
      "Processed 1500 events...\n",
      "Processed 2000 events...\n",
      "Processed 2500 events...\n",
      "Event 2775 has >2 electron. print (pT, charge)...\n",
      "pt: 45.735015869140625, charge: 1\n",
      "pt: 17.245420455932617, charge: -1\n",
      "pt: 15.251051902770996, charge: -1\n",
      "Processed 3000 events...\n",
      "Processed 3500 events...\n",
      "Processed 4000 events...\n",
      "Processed 4500 events...\n"
     ]
    }
   ],
   "source": [
    "pp2ll_reco.process()\n",
    "pp2lljj_reco.process()\n",
    "pp2llxdxd_reco.process()\n",
    "pp2lla_reco.process()"
   ]
  },
  {
   "cell_type": "code",
   "execution_count": 49,
   "metadata": {},
   "outputs": [
    {
     "data": {
      "text/plain": [
       "(array([2880.,  722., 1398.,    0.,    0.]),\n",
       " array([0, 1, 2, 3, 4, 5]),\n",
       " <a list of 5 Patch objects>)"
      ]
     },
     "execution_count": 49,
     "metadata": {},
     "output_type": "execute_result"
    },
    {
     "data": {
      "image/png": "[encoded data removed]",
      "text/plain": [
       "<Figure size 432x288 with 1 Axes>"
      ]
     },
     "metadata": {
      "needs_background": "light"
     },
     "output_type": "display_data"
    }
   ],
   "source": [
    "plt.hist(pp2ll_sm_reco.nMuons, bins=np.arange(0,6))"
   ]
  },
  {
   "cell_type": "code",
   "execution_count": 94,
   "metadata": {},
   "outputs": [
    {
     "data": {
      "image/png": "[encoded data removed]",
      "text/plain": [
       "<Figure size 432x288 with 1 Axes>"
      ]
     },
     "metadata": {
      "needs_background": "light"
     },
     "output_type": "display_data"
    },
    {
     "data": {
      "image/png": "[encoded data removed]",
      "text/plain": [
       "<Figure size 432x288 with 1 Axes>"
      ]
     },
     "metadata": {
      "needs_background": "light"
     },
     "output_type": "display_data"
    },
    {
     "data": {
      "image/png": "[encoded data removed]",
      "text/plain": [
       "<Figure size 432x288 with 1 Axes>"
      ]
     },
     "metadata": {
      "needs_background": "light"
     },
     "output_type": "display_data"
    }
   ],
   "source": [
    "plt.hist(pp2ll_reco.dileptonMass, bins=np.arange(20,160,5), alpha=0.4, label='SM ll')\n",
    "plt.hist(pp2lljj_reco.dileptonMass, bins=np.arange(20,160,5), alpha=0.4, label='SM ll+jj')\n",
    "plt.hist(pp2llxdxd_reco.dileptonMass, bins=np.arange(20,160,5), alpha=0.4, label='2HDMa ll+xdxd')\n",
    "plt.xlabel('Dilepton Mass [GeV]')\n",
    "plt.ylabel('Entries / 5 GeV')\n",
    "plt.legend()\n",
    "plt.show()\n",
    "\n",
    "plt.hist(pp2ll_reco.dileptonPT, bins=np.arange(0,300,5), alpha=0.4, label='SM ll')\n",
    "plt.hist(pp2lljj_reco.dileptonPT, bins=np.arange(0,300,5), alpha=0.4, label='SM ll+jj')\n",
    "plt.hist(pp2llxdxd_reco.dileptonPT, bins=np.arange(0,300,5), alpha=0.4, label='2HDMa ll+xdxd')\n",
    "plt.xlabel('Dilepton PT [GeV]')\n",
    "plt.ylabel('Entries / 5 GeV')\n",
    "plt.legend()\n",
    "plt.show()\n",
    "\n",
    "plt.hist(pp2ll_reco.nJets, bins=np.arange(0,10), alpha=0.4, label='SM ll')\n",
    "plt.hist(pp2lljj_reco.nJets, bins=np.arange(0,10), alpha=0.4, label='SM ll+jj')\n",
    "plt.hist(pp2llxdxd_reco.nJets, bins=np.arange(0,10), alpha=0.4, label='2HDMa ll+xdxd')\n",
    "plt.xlabel('Number of Jets')\n",
    "plt.ylabel('Entries / Bin')\n",
    "plt.legend()\n",
    "plt.show()"
   ]
  },
  {
   "cell_type": "code",
   "execution_count": 98,
   "metadata": {},
   "outputs": [
    {
     "data": {
      "text/plain": [
       "{'all': 10000,\n",
       " 'El: >=2 lep': 1718,\n",
       " 'El: ==2 OS lep': 1716,\n",
       " 'El: Z window': 0,\n",
       " 'Mu: >=2 lep': 2796,\n",
       " 'Mu: ==2 OS lep': 2796,\n",
       " 'Mu: Z window': 0}"
      ]
     },
     "execution_count": 98,
     "metadata": {},
     "output_type": "execute_result"
    }
   ],
   "source": [
    "pp2ll_reco.eventCutflow"
   ]
  },
  {
   "cell_type": "code",
   "execution_count": 99,
   "metadata": {},
   "outputs": [
    {
     "data": {
      "text/plain": [
       "{'all': 10000,\n",
       " 'El: >=2 lep': 1580,\n",
       " 'El: ==2 OS lep': 1580,\n",
       " 'El: Z window': 0,\n",
       " 'Mu: >=2 lep': 2830,\n",
       " 'Mu: ==2 OS lep': 2828,\n",
       " 'Mu: Z window': 0}"
      ]
     },
     "execution_count": 99,
     "metadata": {},
     "output_type": "execute_result"
    }
   ],
   "source": [
    "pp2lljj_reco.eventCutflow"
   ]
  },
  {
   "cell_type": "code",
   "execution_count": 100,
   "metadata": {},
   "outputs": [
    {
     "data": {
      "text/plain": [
       "{'all': 10000,\n",
       " 'El: >=2 lep': 2306,\n",
       " 'El: ==2 OS lep': 2300,\n",
       " 'El: Z window': 0,\n",
       " 'Mu: >=2 lep': 3300,\n",
       " 'Mu: ==2 OS lep': 3298,\n",
       " 'Mu: Z window': 0}"
      ]
     },
     "execution_count": 100,
     "metadata": {},
     "output_type": "execute_result"
    }
   ],
   "source": [
    "pp2llxdxd_reco.eventCutflow"
   ]
  },
  {
   "cell_type": "code",
   "execution_count": null,
   "metadata": {},
   "outputs": [],
   "source": []
  }
 ],
 "metadata": {
  "kernelspec": {
   "display_name": "Python 3",
   "language": "python",
   "name": "python3"
  },
  "language_info": {
   "codemirror_mode": {
    "name": "ipython",
    "version": 3
   },
   "file_extension": ".py",
   "mimetype": "text/x-python",
   "name": "python",
   "nbconvert_exporter": "python",
   "pygments_lexer": "ipython3",
   "version": "3.8.3"
  }
 },
 "nbformat": 4,
 "nbformat_minor": 4
}
